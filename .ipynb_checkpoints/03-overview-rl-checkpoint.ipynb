{
 "cells": [
  {
   "cell_type": "markdown",
   "id": "9a7c5d6b-2608-4357-80d5-2f2fe7527578",
   "metadata": {
    "jp-MarkdownHeadingCollapsed": true
   },
   "source": [
    "<h1 style='font-size:40px'> \n",
    "    High Level Overview of Reinforcement Learning\n",
    "</h1>"
   ]
  },
  {
   "cell_type": "markdown",
   "id": "765902db-75f9-4257-9528-17ea93447bda",
   "metadata": {},
   "source": [
    "<h2 style='font-size:30px'> From Bandits to Full Reinforcement Learning\n",
    "</h2>\n",
    "<div> \n",
    "    <ul style='font-size:20px'> \n",
    "        <li>\n",
    "            Nessa aula, formalizamos certas terminologias típicas do campo de RL. Buscamos com isso nos afastar do caso do Multi-Armed Bandit na explicação dos algoritmos.  \n",
    "        </li>\n",
    "    </ul>\n",
    " </div>"
   ]
  },
  {
   "cell_type": "markdown",
   "id": "93d3933c-5b0d-400b-87e3-1ff35a1cd72b",
   "metadata": {
    "tags": []
   },
   "source": [
    "<h4 style='font-size:30px;font-style:italic;text-decoration:underline'> Action</h4>\n",
    "<div> \n",
    "    <ul style='font-size:20px'>\n",
    "        <li>\n",
    "            Seria uma escolha qualquer, entre todas as disponíveis ao algoritmo para tomada de decisão.\n",
    "        </li>\n",
    "     </ul>\n",
    "</div>"
   ]
  },
  {
   "cell_type": "markdown",
   "id": "6d7cd198-5cbb-4c33-b431-e7235f460810",
   "metadata": {
    "tags": []
   },
   "source": [
    "<h4 style='font-size:30px;font-style:italic;text-decoration:underline'> State</h4>\n",
    "<div> \n",
    "    <ul style='font-size:20px'>\n",
    "        <li>\n",
    "            Consistiria no estado de uma entidade do ambiente, cujas características podem influenciar na tomada de decisão do algoritmo.\n",
    "        </li>\n",
    "        <li>\n",
    "            Podemos interpretar um state como uma feature de nosso experimento. Existem situações em o modelo deve considerar uma sequência de estados para que possa escolher seu output (IA de xadrez, séries temporais).\n",
    "        </li>\n",
    "     </ul>\n",
    "</div>"
   ]
  }
 ],
 "metadata": {
  "kernelspec": {
   "display_name": "Python 3 (ipykernel)",
   "language": "python",
   "name": "python3"
  },
  "language_info": {
   "codemirror_mode": {
    "name": "ipython",
    "version": 3
   },
   "file_extension": ".py",
   "mimetype": "text/x-python",
   "name": "python",
   "nbconvert_exporter": "python",
   "pygments_lexer": "ipython3",
   "version": "3.10.12"
  }
 },
 "nbformat": 4,
 "nbformat_minor": 5
}
