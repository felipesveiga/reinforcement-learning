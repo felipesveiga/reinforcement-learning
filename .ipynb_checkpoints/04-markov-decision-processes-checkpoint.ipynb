{
 "cells": [
  {
   "cell_type": "markdown",
   "id": "1cf259ba-9cba-4802-8b55-1c232e437177",
   "metadata": {
    "jp-MarkdownHeadingCollapsed": true
   },
   "source": [
    "<h1 style='font-size:40px'> \n",
    "    Markov Decision Processes\n",
    "</h1>"
   ]
  },
  {
   "cell_type": "code",
   "execution_count": 1,
   "id": "fb79df50-24d6-47ab-8f13-021f6bb4af82",
   "metadata": {},
   "outputs": [
    {
     "name": "stdout",
     "output_type": "stream",
     "text": [
      "[master db5acfc] Aula 33\n",
      " 4 files changed, 222 insertions(+), 118 deletions(-)\n",
      " create mode 100644 .ipynb_checkpoints/03-overview-rl-checkpoint.ipynb\n",
      " create mode 100644 03-overview-rl.ipynb\n",
      "Enumerating objects: 8, done.\n",
      "Counting objects: 100% (8/8), done.\n",
      "Delta compression using up to 24 threads\n",
      "Compressing objects: 100% (5/5), done.\n",
      "Writing objects: 100% (5/5), 1.14 KiB | 1.14 MiB/s, done.\n",
      "Total 5 (delta 3), reused 0 (delta 0), pack-reused 0\n",
      "remote: Resolving deltas: 100% (3/3), completed with 2 local objects.\u001b[K\n",
      "To https://github.com/felipesveiga/reinforcement-learning.git\n",
      "   fe76e61..db5acfc  master -> master\n"
     ]
    }
   ],
   "source": [
    "! git add .\n",
    "! git commit -m 'Iniciar seção 4'\n",
    "! git push"
   ]
  },
  {
   "cell_type": "markdown",
   "id": "d0471fe3-af30-45be-83fa-d211573e1457",
   "metadata": {
    "editable": true,
    "slideshow": {
     "slide_type": ""
    },
    "tags": []
   },
   "source": [
    "<p style='color:red'> Vi Aula 33; Iniciar seção 4</p>"
   ]
  },
  {
   "cell_type": "markdown",
   "id": "776d1e78-1ca9-4b3a-b590-27b3f8906927",
   "metadata": {
    "editable": true,
    "slideshow": {
     "slide_type": ""
    },
    "tags": []
   },
   "source": [
    "<p style='color:red'> Esperar até o final da seção 4 para começar a programar o framework de RL, por conta da Aula 30</p>"
   ]
  }
 ],
 "metadata": {
  "kernelspec": {
   "display_name": "Python 3 (ipykernel)",
   "language": "python",
   "name": "python3"
  },
  "language_info": {
   "codemirror_mode": {
    "name": "ipython",
    "version": 3
   },
   "file_extension": ".py",
   "mimetype": "text/x-python",
   "name": "python",
   "nbconvert_exporter": "python",
   "pygments_lexer": "ipython3",
   "version": "3.10.12"
  }
 },
 "nbformat": 4,
 "nbformat_minor": 5
}
