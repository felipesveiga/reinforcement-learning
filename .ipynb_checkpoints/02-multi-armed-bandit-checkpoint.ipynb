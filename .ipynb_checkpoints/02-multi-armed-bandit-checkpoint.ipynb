{
 "cells": [
  {
   "cell_type": "markdown",
   "id": "5b080581-43d1-4eee-afb5-d76feeec9878",
   "metadata": {},
   "source": [
    "<h1 style='font-size:40px'> Return of the Multi-Armed Bandit</h1>"
   ]
  },
  {
   "cell_type": "markdown",
   "id": "b0eb6a26-d222-4072-ae3b-1d76a63fc644",
   "metadata": {},
   "source": [
    "<h2 style='font-size:30px'> \n",
    "    Section Introduction: The Explore-Exploit Dilemma\n",
    "</h2>\n",
    "<div> \n",
    "    <ul style='font-size:20px'> \n",
    "        <li>\n",
    "            Em análises estatísticas, a amostra requerida para termos um grande poder estatístico pode ser alta demais. Nesse caso, os pesquisadores podem se sentir tentados a sacrificar parte desse poder com um grupo menor, a fim de colher mais rapidamente os resultados, podendo usufruir das conclusões tiradas.\n",
    "        </li>\n",
    "        <li>\n",
    "            Esse conflito de interesses é conhecido como <i> Explore-Exploit Dilemma</i>.\n",
    "        </li>\n",
    "    </ul>\n",
    " </div>"
   ]
  },
  {
   "cell_type": "markdown",
   "id": "b8cc5e11-8c66-4e87-a2b2-d7f35c129dc4",
   "metadata": {},
   "source": [
    "<h3 style='font-size:30px;font-style:italic'> Aplicações do Explore-Exploit Dilemma</h3>"
   ]
  },
  {
   "cell_type": "code",
   "execution_count": 1,
   "id": "40a9d773-1c4e-401e-858d-c0a896d86548",
   "metadata": {},
   "outputs": [
    {
     "name": "stdout",
     "output_type": "stream",
     "text": [
      "[master 37c89d2] Aula 6\n",
      " 4 files changed, 154 insertions(+), 90 deletions(-)\n",
      " create mode 100644 .ipynb_checkpoints/02-multi-armed-bandit-checkpoint.ipynb\n",
      " create mode 100644 02-multi-armed-bandit.ipynb\n",
      "Enumerating objects: 8, done.\n",
      "Counting objects: 100% (8/8), done.\n",
      "Delta compression using up to 24 threads\n",
      "Compressing objects: 100% (5/5), done.\n",
      "Writing objects: 100% (5/5), 868 bytes | 868.00 KiB/s, done.\n",
      "Total 5 (delta 2), reused 0 (delta 0), pack-reused 0\n",
      "remote: Resolving deltas: 100% (2/2), completed with 1 local object.\u001b[K\n",
      "To https://github.com/felipesveiga/reinforcement-learning.git\n",
      "   35ff1d5..37c89d2  master -> master\n"
     ]
    }
   ],
   "source": [
    "! git add .\n",
    "! git commit -m 'Usar Aula 7 para escrever a seção \"Aplicações do Explore-Exploit Dilemma\"'\n",
    "! git push"
   ]
  },
  {
   "cell_type": "markdown",
   "id": "4bce606c-4113-40fa-ad46-6eb2b87c2172",
   "metadata": {
    "editable": true,
    "slideshow": {
     "slide_type": ""
    },
    "tags": []
   },
   "source": [
    "<p style='color:red'> Vi Aula 6; Usar Aula 7 para escrever a seção \"Aplicações do Explore-Exploit Dilemma\"</p>"
   ]
  }
 ],
 "metadata": {
  "kernelspec": {
   "display_name": "Python 3 (ipykernel)",
   "language": "python",
   "name": "python3"
  },
  "language_info": {
   "codemirror_mode": {
    "name": "ipython",
    "version": 3
   },
   "file_extension": ".py",
   "mimetype": "text/x-python",
   "name": "python",
   "nbconvert_exporter": "python",
   "pygments_lexer": "ipython3",
   "version": "3.10.12"
  }
 },
 "nbformat": 4,
 "nbformat_minor": 5
}
