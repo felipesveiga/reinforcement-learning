{
 "cells": [
  {
   "cell_type": "markdown",
   "id": "12dfc108-7a4b-4e4a-b741-58cae846bb17",
   "metadata": {},
   "source": [
    "<h1 style='font-size:40px'> Welcome</h1>"
   ]
  },
  {
   "cell_type": "markdown",
   "id": "672ad202-ac9e-4832-a3f8-0b6659349f33",
   "metadata": {},
   "source": [
    "<h2 style='font-size:30px'> \n",
    "    Course Outline and Big Picture\n",
    "</h2>\n",
    "<div> \n",
    "    <ul style='font-size:20px'> \n",
    "        <li>\n",
    "            As primeiras seções do curso serão voltadas ao estudo das 3 principais técnicas de RL. São elas:\n",
    "            <ul>\n",
    "                <li>\n",
    "                    Dynamic Programming\n",
    "                </li>\n",
    "                <li>\n",
    "                    Monte Carlo\n",
    "                </li>\n",
    "                <li>\n",
    "                    Q-Learning\n",
    "                </li>\n",
    "            </ul>\n",
    "       </li>\n",
    "        <li>\n",
    "            Em seguida, aprenderemos a aplicação dessas metodologias em algoritmos supervisionados, em especial, em modelos diferenciáveis.\n",
    "        </li>\n",
    "    </ul>\n",
    " </div>"
   ]
  },
  {
   "cell_type": "code",
   "execution_count": 1,
   "id": "40a9d773-1c4e-401e-858d-c0a896d86548",
   "metadata": {},
   "outputs": [
    {
     "name": "stdout",
     "output_type": "stream",
     "text": [
      "[master d8fee6b] Aula 2\n",
      " 2 files changed, 190 insertions(+)\n",
      " create mode 100644 .ipynb_checkpoints/01-welcome-checkpoint.ipynb\n",
      " create mode 100644 01-welcome.ipynb\n",
      "Enumerating objects: 5, done.\n",
      "Counting objects: 100% (5/5), done.\n",
      "Delta compression using up to 24 threads\n",
      "Compressing objects: 100% (4/4), done.\n",
      "Writing objects: 100% (4/4), 1.38 KiB | 1.38 MiB/s, done.\n",
      "Total 4 (delta 0), reused 0 (delta 0), pack-reused 0\n",
      "To https://github.com/felipesveiga/reinforcement-learning.git\n",
      "   ba47f19..d8fee6b  master -> master\n"
     ]
    }
   ],
   "source": [
    "! git add .\n",
    "! git commit -m 'Aula 5'\n",
    "! git push"
   ]
  },
  {
   "cell_type": "markdown",
   "id": "a56feadc-2149-4195-acab-8c029f5b79e6",
   "metadata": {
    "editable": true,
    "slideshow": {
     "slide_type": ""
    },
    "tags": []
   },
   "source": [
    "<p style='color:red'> Vi Aula 2 a 4; Aula 5</p>"
   ]
  }
 ],
 "metadata": {
  "kernelspec": {
   "display_name": "Python 3 (ipykernel)",
   "language": "python",
   "name": "python3"
  },
  "language_info": {
   "codemirror_mode": {
    "name": "ipython",
    "version": 3
   },
   "file_extension": ".py",
   "mimetype": "text/x-python",
   "name": "python",
   "nbconvert_exporter": "python",
   "pygments_lexer": "ipython3",
   "version": "3.10.12"
  }
 },
 "nbformat": 4,
 "nbformat_minor": 5
}
