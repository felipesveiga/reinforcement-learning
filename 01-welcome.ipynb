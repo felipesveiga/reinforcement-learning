{
 "cells": [
  {
   "cell_type": "markdown",
   "id": "12dfc108-7a4b-4e4a-b741-58cae846bb17",
   "metadata": {},
   "source": [
    "<h1 style='font-size:40px'> Welcome</h1>"
   ]
  },
  {
   "cell_type": "markdown",
   "id": "672ad202-ac9e-4832-a3f8-0b6659349f33",
   "metadata": {},
   "source": [
    "<h2 style='font-size:30px'> \n",
    "    Course Outline and Big Picture\n",
    "</h2>\n",
    "<div> \n",
    "    <ul style='font-size:20px'> \n",
    "        <li>\n",
    "            As primeiras seções do curso serão voltadas ao estudo das 3 principais técnicas de RL. São elas:\n",
    "            <ul>\n",
    "                <li>\n",
    "                    Dynamic Programming\n",
    "                </li>\n",
    "                <li>\n",
    "                    Monte Carlo\n",
    "                </li>\n",
    "                <li>\n",
    "                    Q-Learning\n",
    "                </li>\n",
    "            </ul>\n",
    "       </li>\n",
    "        <li>\n",
    "            Em seguida, aprenderemos a aplicação dessas metodologias em algoritmos supervisionados, em especial, em modelos diferenciáveis.\n",
    "        </li>\n",
    "    </ul>\n",
    " </div>"
   ]
  }
 ],
 "metadata": {
  "kernelspec": {
   "display_name": "Python 3 (ipykernel)",
   "language": "python",
   "name": "python3"
  },
  "language_info": {
   "codemirror_mode": {
    "name": "ipython",
    "version": 3
   },
   "file_extension": ".py",
   "mimetype": "text/x-python",
   "name": "python",
   "nbconvert_exporter": "python",
   "pygments_lexer": "ipython3",
   "version": "3.10.12"
  }
 },
 "nbformat": 4,
 "nbformat_minor": 5
}
