{
 "cells": [
  {
   "cell_type": "markdown",
   "id": "12dfc108-7a4b-4e4a-b741-58cae846bb17",
   "metadata": {},
   "source": [
    "<h1 style='font-size:40px'> Welcome</h1>"
   ]
  },
  {
   "cell_type": "markdown",
   "id": "672ad202-ac9e-4832-a3f8-0b6659349f33",
   "metadata": {},
   "source": [
    "<h2 style='font-size:30px'> \n",
    "    Course Outline and Big Picture\n",
    "</h2>\n",
    "<div> \n",
    "    <ul style='font-size:20px'> \n",
    "        <li>\n",
    "       </li>\n",
    "    </ul>\n",
    " </div>"
   ]
  },
  {
   "cell_type": "code",
   "execution_count": 5,
   "id": "40a9d773-1c4e-401e-858d-c0a896d86548",
   "metadata": {},
   "outputs": [
    {
     "name": "stdout",
     "output_type": "stream",
     "text": [
      "[master b6d43cb] Aula 228\n",
      " 4 files changed, 100 insertions(+), 14 deletions(-)\n",
      " create mode 100644 img/14_pvc_modes.png\n",
      " create mode 100644 projects/complex-gh/k8s/postgres/database-persistent-volume-claim.yaml\n",
      "Enumerating objects: 19, done.\n",
      "Counting objects: 100% (19/19), done.\n",
      "Delta compression using up to 24 threads\n",
      "Compressing objects: 100% (11/11), done.\n",
      "Writing objects: 100% (11/11), 81.82 KiB | 27.27 MiB/s, done.\n",
      "Total 11 (delta 6), reused 0 (delta 0), pack-reused 0\n",
      "remote: Resolving deltas: 100% (6/6), completed with 6 local objects.\u001b[K\n",
      "To https://github.com/felipesveiga/docker.git\n",
      "   d8ac98e..b6d43cb  master -> master\n"
     ]
    }
   ],
   "source": [
    "! git add .\n",
    "! git commit -m 'Aula 2'\n",
    "! git push"
   ]
  },
  {
   "cell_type": "markdown",
   "id": "a56feadc-2149-4195-acab-8c029f5b79e6",
   "metadata": {
    "editable": true,
    "slideshow": {
     "slide_type": ""
    },
    "tags": []
   },
   "source": [
    "<p style='color:red'> Iniciei o curso; Aula 2</p>"
   ]
  }
 ],
 "metadata": {
  "kernelspec": {
   "display_name": "Python 3 (ipykernel)",
   "language": "python",
   "name": "python3"
  },
  "language_info": {
   "codemirror_mode": {
    "name": "ipython",
    "version": 3
   },
   "file_extension": ".py",
   "mimetype": "text/x-python",
   "name": "python",
   "nbconvert_exporter": "python",
   "pygments_lexer": "ipython3",
   "version": "3.10.12"
  }
 },
 "nbformat": 4,
 "nbformat_minor": 5
}
