{
 "cells": [
  {
   "cell_type": "markdown",
   "id": "1cf259ba-9cba-4802-8b55-1c232e437177",
   "metadata": {
    "jp-MarkdownHeadingCollapsed": true
   },
   "source": [
    "<h1 style='font-size:40px'> \n",
    "    Markov Decision Processes\n",
    "</h1>\n",
    "<div> \n",
    "    <ul style='font-size:20px'>\n",
    "        <li>\n",
    "            Seção em que vamos estudar os Markov Decision Processes, algoritmo cujas previsões se baseiam na sequência de estados apresentada.\n",
    "        </li>\n",
    "     </ul>\n",
    "</div>"
   ]
  },
  {
   "cell_type": "markdown",
   "id": "09380842-43af-43c1-8564-2c37c13ceb82",
   "metadata": {},
   "source": [
    "<h2 style='font-size:30px'> Gridworld\n",
    "</h2>\n",
    "<div> \n",
    "    <ul style='font-size:20px'> \n",
    "        <li>  \n",
    "            Todo algoritmo de RL deve ser exposto a um ambiente, dentro do qual aprenderá ações que otimizem uma função loss condizente ao nosso objetivo. \n",
    "        </li>\n",
    "        <li>\n",
    "            No nosso caso, lidaremos com o Gridworld. Esse consiste numa matriz $3\\times{4}$. Um agente, inicializado em $(3,1)$, deverá caminhar até $(1,4)$, onde receberá um reward. No entanto, ele pode ser punido, caso passe por posições proibidas. \n",
    "        </li>\n",
    "    </ul>\n",
    " </div>"
   ]
  },
  {
   "cell_type": "markdown",
   "id": "ff6e79a2-39e6-4fb3-af38-d87c8c1b8cd8",
   "metadata": {},
   "source": [
    "<figure>\n",
    "    <center style='font-size:20px;margin-top:20px'> \n",
    "            <img src='img/04_gridworld.png'>\n",
    "        <figcaption style='font-size:15px'>\n",
    "            Representação do Gridworld.   \n",
    "        </figcaption>\n",
    "    </center>\n",
    "</figure>"
   ]
  },
  {
   "cell_type": "markdown",
   "id": "436686e0-ef79-4eb5-8510-ef81997d1324",
   "metadata": {},
   "source": [
    "<h3 style='font-size:30px;font-style:italic'> Terminologias</h3>\n",
    "<div> \n",
    "    <ul style='font-size:20px'> \n",
    "        <li> \n",
    "            <i>Episode</i>: Chamamos de \"episódio\" uma determinada simulação durante o treinamento.\n",
    "        </li>\n",
    "        <li> \n",
    "            <i> State Space</i>: Conjunto de todos os estados possíveis do nosso experimento.\n",
    "        </li>\n",
    "        <li> \n",
    "            <i> Terminal State</i>: Estado no qual um episódio se encerra.\n",
    "        </li>\n",
    "        <li>\n",
    "            <i> Policy</i>: Função cujo resultado discerne bons dos maus resultados.\n",
    "        </li>\n",
    "    </ul>\n",
    "</div>"
   ]
  },
  {
   "cell_type": "markdown",
   "id": "b7041c24-a0c0-47f5-874b-86c2be8026a4",
   "metadata": {},
   "source": [
    "<h2 style='font-size:30px'> Choosing Rewards\n",
    "</h2>\n",
    "<div> \n",
    "    <ul style='font-size:20px'> \n",
    "        <li>  \n",
    "            Ao concebermos um algoritmo de Aprendizado de Reforço, devemos fazer com que a sua policy seja condizente com os objetivos almejados.\n",
    "        </li>\n",
    "        <li>\n",
    "            Por exemplo, num algoritmo de GPS, poderíamos penalizar o modelo por cada minuto levado para o alcance do destino. Com isso, o orientamos a sempre buscar os caminhos mais rápidos. \n",
    "        </li>\n",
    "        <li>\n",
    "            Dependendo do quão flexível a policy for, o algoritmo poderá encontrar soluções inusitadas para o problema, como sugere esse <a href='https://www.youtube.com/watch?v=n0Cpqzqzroo'>vídeo</a>.\n",
    "        </li>\n",
    "    </ul>\n",
    " </div>"
   ]
  },
  {
   "cell_type": "markdown",
   "id": "8f2d7726-bf52-47fb-ae77-24c34015aa44",
   "metadata": {},
   "source": [
    "<h2 style='font-size:30px'> The Markov Property\n",
    "</h2>\n",
    "<div> \n",
    "    <ul style='font-size:20px'> \n",
    "        <li> \n",
    "            Aula em que é apresentada a Propriedade de Markov, que baseia os Markov Decision Processes.\n",
    "        </li>\n",
    "        <li>\n",
    "            Ela afirma que a probabilidade de um estado $s_{t}$ é apenas condicionada pelo estado diretamente anterior $s_{t-1}$.\n",
    "        </li>\n",
    "    </ul>\n",
    " </div>"
   ]
  },
  {
   "cell_type": "markdown",
   "id": "221a5815-0e08-4025-ab15-b952fa67061d",
   "metadata": {},
   "source": [
    "<figure>\n",
    "    <center style='font-size:20px;margin-top:20px'> \n",
    "            $\\displaystyle P(s_{t}|s_{t-1},\\ldots,s_{1})=P(s_{t}|s_{t-1})$\n",
    "    </center>\n",
    "</figure>"
   ]
  },
  {
   "cell_type": "markdown",
   "id": "bc74da5e-cea4-425d-9468-7867c20f103e",
   "metadata": {},
   "source": [
    "<h2 style='font-size:30px'> \n",
    "    <a href='https://builtin.com/machine-learning/markov-decision-process'>\n",
    "        Markov Decision Processes (MDPs)\n",
    "    </a>\n",
    "</h2>\n",
    "<div> \n",
    "    <ul style='font-size:20px'> \n",
    "        <li> \n",
    "            Markov Decision Processes são algoritmos baseados na Propriedade de Markov.\n",
    "        </li>\n",
    "        <li>\n",
    "            O seu objetivo é formular uma policy $\\pi$ que otimize a premiação do algoritmo a longo prazo.\n",
    "        </li>\n",
    "        <li>\n",
    "            Os principais componentes de um MDP são o conjunto de todos os states possíveis $S$, as probabilidades de transição de estados $P$, os rewards $R$ e o discount factor $\\gamma$.\n",
    "        </li>\n",
    "    </ul>\n",
    " </div>"
   ]
  },
  {
   "cell_type": "markdown",
   "id": "0c30c80e-eabd-4b30-b213-916a97f30643",
   "metadata": {},
   "source": [
    "<figure>\n",
    "    <center style='font-size:20px;margin-top:20px'> \n",
    "            <img src='img/04_mdp.png'>\n",
    "        <figcaption style='font-size:15px'>\n",
    "            Ilustração de um Markov Decision Processes.   \n",
    "        </figcaption>\n",
    "    </center>\n",
    "</figure>"
   ]
  },
  {
   "cell_type": "code",
   "execution_count": null,
   "id": "a503d083-d356-45f7-a58f-f50a62da59e4",
   "metadata": {},
   "outputs": [],
   "source": [
    "# https://neptune.ai/blog/markov-decision-process-in-reinforcement-learning"
   ]
  },
  {
   "cell_type": "code",
   "execution_count": 11,
   "id": "fb79df50-24d6-47ab-8f13-021f6bb4af82",
   "metadata": {},
   "outputs": [
    {
     "name": "stdout",
     "output_type": "stream",
     "text": [
      "[master 4f23289] Ler artigo do Neptune.AI\n",
      " 2 files changed, 34 insertions(+), 14 deletions(-)\n",
      "Enumerating objects: 7, done.\n",
      "Counting objects: 100% (7/7), done.\n",
      "Delta compression using up to 24 threads\n",
      "Compressing objects: 100% (4/4), done.\n",
      "Writing objects: 100% (4/4), 634 bytes | 634.00 KiB/s, done.\n",
      "Total 4 (delta 3), reused 0 (delta 0), pack-reused 0\n",
      "remote: Resolving deltas: 100% (3/3), completed with 3 local objects.\u001b[K\n",
      "To https://github.com/felipesveiga/reinforcement-learning.git\n",
      "   cc0b26e..4f23289  master -> master\n"
     ]
    }
   ],
   "source": [
    "! git add .\n",
    "! git commit -m 'Continuar de \"The Bellman equation & dynamic programming\"'\n",
    "! git push"
   ]
  },
  {
   "cell_type": "markdown",
   "id": "d0471fe3-af30-45be-83fa-d211573e1457",
   "metadata": {
    "editable": true,
    "slideshow": {
     "slide_type": ""
    },
    "tags": []
   },
   "source": [
    "<p style='color:red'> Iniciei artigo do Neptune.AI; Continuar de \"The Bellman equation & dynamic programming\"</p>"
   ]
  },
  {
   "cell_type": "markdown",
   "id": "776d1e78-1ca9-4b3a-b590-27b3f8906927",
   "metadata": {
    "editable": true,
    "slideshow": {
     "slide_type": ""
    },
    "tags": []
   },
   "source": [
    "<p style='color:red'> Esperar até o final da seção 4 para começar a programar o framework de RL, por conta da Aula 30</p>"
   ]
  }
 ],
 "metadata": {
  "kernelspec": {
   "display_name": "Python 3 (ipykernel)",
   "language": "python",
   "name": "python3"
  },
  "language_info": {
   "codemirror_mode": {
    "name": "ipython",
    "version": 3
   },
   "file_extension": ".py",
   "mimetype": "text/x-python",
   "name": "python",
   "nbconvert_exporter": "python",
   "pygments_lexer": "ipython3",
   "version": "3.10.12"
  }
 },
 "nbformat": 4,
 "nbformat_minor": 5
}
