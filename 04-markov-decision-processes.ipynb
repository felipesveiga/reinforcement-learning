{
 "cells": [
  {
   "cell_type": "markdown",
   "id": "1cf259ba-9cba-4802-8b55-1c232e437177",
   "metadata": {
    "jp-MarkdownHeadingCollapsed": true
   },
   "source": [
    "<h1 style='font-size:40px'> \n",
    "    Markov Decision Processes\n",
    "</h1>\n",
    "<div> \n",
    "    <ul style='font-size:20px'>\n",
    "        <li>\n",
    "            Seção em que vamos estudar os Markov Decision Processes, algoritmo cujas previsões se baseiam na sequência de estados apresentada.\n",
    "        </li>\n",
    "     </ul>\n",
    "</div>"
   ]
  },
  {
   "cell_type": "markdown",
   "id": "09380842-43af-43c1-8564-2c37c13ceb82",
   "metadata": {},
   "source": [
    "<h2 style='font-size:30px'> Gridworld\n",
    "</h2>\n",
    "<div> \n",
    "    <ul style='font-size:20px'> \n",
    "        <li>  \n",
    "            Todo algoritmo de RL deve ser exposto a um ambiente, dentro do qual aprenderá ações que otimizem uma função loss condizente ao nosso objetivo. \n",
    "        </li>\n",
    "        <li>\n",
    "            No nosso caso, lidaremos com o Gridworld. Esse consiste numa matriz $3\\times{4}$. Um agente, inicializado em $(3,1)$, deverá caminhar até $(1,4)$, onde receberá um reward. No entanto, ele pode ser punido, caso passe por posições proibidas. \n",
    "        </li>\n",
    "    </ul>\n",
    " </div>"
   ]
  },
  {
   "cell_type": "markdown",
   "id": "ff6e79a2-39e6-4fb3-af38-d87c8c1b8cd8",
   "metadata": {},
   "source": [
    "<figure>\n",
    "    <center style='font-size:20px;margin-top:20px'> \n",
    "            <img src='img/04_gridworld.png'>\n",
    "        <figcaption style='font-size:15px'>\n",
    "            Representação do Gridworld.   \n",
    "        </figcaption>\n",
    "    </center>\n",
    "</figure>"
   ]
  },
  {
   "cell_type": "markdown",
   "id": "436686e0-ef79-4eb5-8510-ef81997d1324",
   "metadata": {},
   "source": [
    "<h3 style='font-size:30px;font-style:italic'> Terminologias</h3>\n",
    "<div> \n",
    "    <ul style='font-size:20px'> \n",
    "        <li> \n",
    "            <i>Episode</i>: Chamamos de \"episódio\" uma determinada simulação durante o treinamento.\n",
    "        </li>\n",
    "        <li> \n",
    "            <i> State Space</i>: Conjunto de todos os estados possíveis do nosso experimento.\n",
    "        </li>\n",
    "        <li> \n",
    "            <i> Terminal State</i>: Estado no qual um episódio se encerra.\n",
    "        </li>\n",
    "        <li>\n",
    "            <i> Policy</i>: Função cujo resultado discerne bons dos maus resultados.\n",
    "        </li>\n",
    "    </ul>\n",
    "</div>"
   ]
  },
  {
   "cell_type": "markdown",
   "id": "b7041c24-a0c0-47f5-874b-86c2be8026a4",
   "metadata": {},
   "source": [
    "<h2 style='font-size:30px'> Choosing Rewards\n",
    "</h2>\n",
    "<div> \n",
    "    <ul style='font-size:20px'> \n",
    "        <li>  \n",
    "            Ao concebermos um algoritmo de Aprendizado de Reforço, devemos fazer com que a sua policy seja condizente com os objetivos almejados.\n",
    "        </li>\n",
    "        <li>\n",
    "            Por exemplo, num algoritmo de GPS, poderíamos penalizar o modelo por cada minuto levado para o alcance do destino. Com isso, o orientamos a sempre buscar os caminhos mais rápidos. \n",
    "        </li>\n",
    "        <li>\n",
    "            Dependendo do quão flexível a policy for, o algoritmo poderá encontrar soluções inusitadas para o problema, como sugere esse <a href='https://www.youtube.com/watch?v=n0Cpqzqzroo'>vídeo</a>.\n",
    "        </li>\n",
    "    </ul>\n",
    " </div>"
   ]
  },
  {
   "cell_type": "markdown",
   "id": "8f2d7726-bf52-47fb-ae77-24c34015aa44",
   "metadata": {},
   "source": [
    "<h2 style='font-size:30px'> The Markov Property\n",
    "</h2>\n",
    "<div> \n",
    "    <ul style='font-size:20px'> \n",
    "        <li> \n",
    "            Aula em que é apresentada a Propriedade de Markov, que baseia os Markov Decision Processes.\n",
    "        </li>\n",
    "        <li>\n",
    "            Ela afirma que a probabilidade de um estado $s_{t}$ é apenas condicionada pelo estado diretamente anterior $s_{t-1}$.\n",
    "        </li>\n",
    "    </ul>\n",
    " </div>"
   ]
  },
  {
   "cell_type": "markdown",
   "id": "221a5815-0e08-4025-ab15-b952fa67061d",
   "metadata": {},
   "source": [
    "<figure>\n",
    "    <center style='font-size:20px;margin-top:20px'> \n",
    "            $\\displaystyle P(s_{t}|s_{t-1},\\ldots,s_{1})=P(s_{t}|s_{t-1})$\n",
    "    </center>\n",
    "</figure>"
   ]
  },
  {
   "cell_type": "markdown",
   "id": "bc74da5e-cea4-425d-9468-7867c20f103e",
   "metadata": {},
   "source": [
    "<h2 style='font-size:30px'> \n",
    "    <a href='https://builtin.com/machine-learning/markov-decision-process'>\n",
    "        Markov Decision Processes (MDPs)\n",
    "    </a>\n",
    "</h2>\n",
    "<div> \n",
    "    <ul style='font-size:20px'> \n",
    "        <li> \n",
    "            Markov Decision Processes são algoritmos baseados na Propriedade de Markov.\n",
    "        </li>\n",
    "        <li>\n",
    "            O seu objetivo é formular uma policy $\\pi$ que otimize a premiação do algoritmo a longo prazo.\n",
    "        </li>\n",
    "        <li>\n",
    "            Os principais componentes de um MDP são o conjunto de todos os states possíveis $S$, as probabilidades de transição de estados $P$, os rewards $R$ e o discount factor $\\gamma$.\n",
    "        </li>\n",
    "    </ul>\n",
    " </div>"
   ]
  },
  {
   "cell_type": "markdown",
   "id": "0c30c80e-eabd-4b30-b213-916a97f30643",
   "metadata": {},
   "source": [
    "<figure>\n",
    "    <center style='font-size:20px;margin-top:20px'> \n",
    "            <img src='img/04_mdp.png'>\n",
    "        <figcaption style='font-size:15px'>\n",
    "            Ilustração de um Markov Decision Processes.   \n",
    "        </figcaption>\n",
    "    </center>\n",
    "</figure>"
   ]
  },
  {
   "cell_type": "markdown",
   "id": "82f861c5-b7dc-4b00-8899-a2d8f7564529",
   "metadata": {},
   "source": [
    "<h3 style='font-size:30px;font-style:italic'> Return ($G_{t}$)</h3>\n",
    "<div> \n",
    "    <ul style='font-size:20px'> \n",
    "        <li>\n",
    "            $G_{t}$ consiste na soma de todos os rewards que serão recebidos do time-step $t$ em diante.\n",
    "        </li>\n",
    "        <li>\n",
    "            Como nosso ambiente não é determinístico, não faz sentido darmos o mesmo peso para todos os rewards. Quanto mais afastados eles estiverem de $t$, menos prováveis eles serão.\n",
    "        </li>\n",
    "    </ul>\n",
    "</div>"
   ]
  },
  {
   "cell_type": "markdown",
   "id": "ddcd5dfd-aa69-4088-8092-d32e2db6d076",
   "metadata": {},
   "source": [
    "<figure>\n",
    "    <center style='font-size:20px;margin-top:20px'> \n",
    "            $\\displaystyle G_{t}=\\sum_{k=0}^{\\infty}{\\gamma^{k}R_{t+k+1}}$\n",
    "    </center>\n",
    "</figure>"
   ]
  },
  {
   "cell_type": "markdown",
   "id": "51b9a3ce-576f-49d8-a5c7-ec2d43b512c6",
   "metadata": {},
   "source": [
    "<h3 style='font-size:30px;font-style:italic'> Policy ($\\pi$)</h3>\n",
    "<div> \n",
    "    <ul style='font-size:20px'> \n",
    "        <li>\n",
    "            A policy nada mais é do que uma distribuição probabilística de todas as ações possíveis, dado o state atual.\n",
    "        </li>\n",
    "    </ul>\n",
    "</div>"
   ]
  },
  {
   "cell_type": "markdown",
   "id": "113f0d04-57c6-406b-b457-f4469f45156d",
   "metadata": {},
   "source": [
    "<figure>\n",
    "    <center style='font-size:20px;margin-top:20px'> \n",
    "            $\\displaystyle \\pi(a|s)=P\\left[A_{t}=a|S_{t}=s\\right]$\n",
    "    </center>\n",
    "</figure>"
   ]
  },
  {
   "cell_type": "markdown",
   "id": "7c561288-dde5-49f3-98b6-a0bc96226c88",
   "metadata": {},
   "source": [
    "<h3 style='font-size:30px;font-style:italic'> Value Functions</h3>\n",
    "<div> \n",
    "    <ul style='font-size:20px'> \n",
    "        <li>\n",
    "            Value functions são funções que buscam mensurar o reward a longo prazo de um state ou ação.\n",
    "        </li>\n",
    "        <li>\n",
    "            No caso de MDP's, usamos a Bellman Equation como Value Function. Ela recorre a $G_{t}$ para computar esse valor futuro.\n",
    "        </li>\n",
    "    </ul>\n",
    "</div>"
   ]
  },
  {
   "cell_type": "markdown",
   "id": "fdb383e5-222d-4f85-9b5c-45502654b07f",
   "metadata": {},
   "source": [
    "<h3 style='font-size:30px;font-style:italic'> \n",
    "    <a href='https://neptune.ai/blog/markov-decision-process-in-reinforcement-learning'>Bellman Equation</a>\n",
    "</h3>\n",
    "<div> \n",
    "    <ul style='font-size:20px'> \n",
    "        <li> \n",
    "            Abaixo, formalizamos a Equação de Bellman.\n",
    "        </li>\n",
    "    </ul>\n",
    "</div>"
   ]
  },
  {
   "cell_type": "markdown",
   "id": "817427f0-6ed0-4a14-bcb1-9be9515cb53a",
   "metadata": {},
   "source": [
    "<figure>\n",
    "    <center style='font-size:20px;margin-top:20px'> \n",
    "            $$\\begin{align*}%\\label{}\n",
    "        \\displaystyle v(s)&=E[G_{t}|S_{t}=s]\\\\\n",
    "        &=E\\left[\\sum_{k=0}^{\\infty}{\\gamma^{k}R_{t+k+1}}|S_{t}=s\\right]\\\\\n",
    "        &=E\\left[R_{t+1}+\\gamma{G_{t+1}}|S_{t}=s\\right]\\\\\n",
    "        &=E\\left[R_{t+1}+\\gamma{v(S_{t+1})}\\right|S_{t}=s]\n",
    "        \\end{align*}\n",
    "        $$\n",
    "    </center>\n",
    "</figure>"
   ]
  },
  {
   "cell_type": "markdown",
   "id": "d13a86b5-3fba-4e19-876e-9063d1a424ec",
   "metadata": {
    "tags": []
   },
   "source": [
    "<h4 style='font-size:30px;font-style:italic;text-decoration:underline'> Por que $E\\left[R_{t+1}+\\gamma{G_{t+1}}|S_{t}=s\\right]=E\\left[R_{t+1}+\\gamma{v(S_{t+1})}\\right|S_{t}=s]$</h4>\n",
    "<div> \n",
    "    <ul style='font-size:20px'> \n",
    "        <li> \n",
    "        </li>\n",
    "    </ul>\n",
    "</div>"
   ]
  },
  {
   "cell_type": "code",
   "execution_count": null,
   "id": "7e4a5ec8-e8cc-4503-9cfa-ef15428fdf0b",
   "metadata": {},
   "outputs": [],
   "source": [
    "# https://www.statlect.com/fundamentals-of-probability/conditional-expectation"
   ]
  },
  {
   "cell_type": "code",
   "execution_count": 18,
   "id": "fb79df50-24d6-47ab-8f13-021f6bb4af82",
   "metadata": {},
   "outputs": [
    {
     "name": "stdout",
     "output_type": "stream",
     "text": [
      "[master 398322b] Ler artigo Stelect para entender Conditional Expectation, explicar últimas duas linhas da formalização Bellman Equation\n",
      " 2 files changed, 14 insertions(+), 14 deletions(-)\n",
      "Enumerating objects: 7, done.\n",
      "Counting objects: 100% (7/7), done.\n",
      "Delta compression using up to 24 threads\n",
      "Compressing objects: 100% (4/4), done.\n",
      "Writing objects: 100% (4/4), 618 bytes | 618.00 KiB/s, done.\n",
      "Total 4 (delta 3), reused 0 (delta 0), pack-reused 0\n",
      "remote: Resolving deltas: 100% (3/3), completed with 3 local objects.\u001b[K\n",
      "To https://github.com/felipesveiga/reinforcement-learning.git\n",
      "   af75cd4..398322b  master -> master\n"
     ]
    }
   ],
   "source": [
    "! git add .\n",
    "! git commit -m 'Agora, explicar por que $E\\left[R_{t+1}+\\gamma{G_{t+1}}|S_{t}=s\\right]=E\\left[R_{t+1}+\\gamma{v(S_{t+1})}\\right|S_{t}=s]$'\n",
    "! git push"
   ]
  },
  {
   "cell_type": "markdown",
   "id": "d0471fe3-af30-45be-83fa-d211573e1457",
   "metadata": {
    "editable": true,
    "slideshow": {
     "slide_type": ""
    },
    "tags": []
   },
   "source": [
    "<p style='color:red'> Expliquei Conditional Expectation e Linearity of Expectation; Agora, explicar por que $E\\left[R_{t+1}+\\gamma{G_{t+1}}|S_{t}=s\\right]=E\\left[R_{t+1}+\\gamma{v(S_{t+1})}\\right|S_{t}=s]$</p>"
   ]
  },
  {
   "cell_type": "markdown",
   "id": "776d1e78-1ca9-4b3a-b590-27b3f8906927",
   "metadata": {
    "editable": true,
    "slideshow": {
     "slide_type": ""
    },
    "tags": []
   },
   "source": [
    "<p style='color:red'> Esperar até o final da seção 4 para começar a programar o framework de RL, por conta da Aula 30</p>"
   ]
  }
 ],
 "metadata": {
  "kernelspec": {
   "display_name": "Python 3 (ipykernel)",
   "language": "python",
   "name": "python3"
  },
  "language_info": {
   "codemirror_mode": {
    "name": "ipython",
    "version": 3
   },
   "file_extension": ".py",
   "mimetype": "text/x-python",
   "name": "python",
   "nbconvert_exporter": "python",
   "pygments_lexer": "ipython3",
   "version": "3.10.12"
  }
 },
 "nbformat": 4,
 "nbformat_minor": 5
}
