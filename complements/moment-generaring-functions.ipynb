{
 "cells": [
  {
   "cell_type": "markdown",
   "id": "5deb5c67-55fb-4eae-9ce5-3ddd5965ded4",
   "metadata": {},
   "source": [
    "<h1 style='font-size:40px'> \n",
    "    <a href='https://web.stanford.edu/class/archive/cs/cs109/cs109.1218/files/student_drive/5.6.pdf'>\n",
    "        Moment Generating Functions\n",
    "    </a></h1>"
   ]
  },
  {
   "cell_type": "markdown",
   "id": "1e86af1e-20d0-48e5-99b4-1a0fd65b76c7",
   "metadata": {},
   "source": [
    "<h2 style='font-size:30px'> \n",
    "    <a href='https://en.wikipedia.org/wiki/Moment_(mathematics)'>\n",
    "        Moments\n",
    "    </a>    \n",
    "</h2>\n",
    "<div> \n",
    "    <ul style='font-size:20px'> \n",
    "        <li>\n",
    "            Momentos são medidas que afirmam certas propriedades do formato de uma distribuição numérica.\n",
    "        </li>\n",
    "        <li>\n",
    "            De maneira geral, o n-ésimo momento de uma distribuição probabilística é definido como $E[X^{n}]$. No entanto, existem sub-tipos de momentos que valem a pena serem mencionados:\n",
    "            <ul>\n",
    "                <li>\n",
    "                   <i>Raw</i>: Definição clássica de momento: $E[X^{n}]=\\int_{-\\infty}^{\\infty}{x^{n}f(x)dx}$     \n",
    "                </li>\n",
    "                <li style='margin-top:20px'>\n",
    "                   <i>Centrado sobre um Valor</i>: $E[(X-c)^{n}]=\\int_{-\\infty}^{\\infty}{(x-c)^{n}f(x)dx}\\text{, }c \\in \\mathbb{R^{+}}$     \n",
    "                </li>\n",
    "                <li style='margin-top:20px'>\n",
    "                   <i>Padronizado</i>: Normalmente, computa-se uma subtração de $X$ por um valor $c$, também: $\\frac{E[(X-c)^{n}]}{E[(X-c)^{2}]^{\\frac{n}{2}}}=\\frac{\\int_{-\\infty}^{\\infty}{(x-c)^{n}f(x)dx}}{[\\int_{-\\infty}^{\\infty}{(x-c)^{2}f(x)dx}]^{\\frac{n}{2}}}\\text{, }c \\in \\mathbb{R^{+}}$     \n",
    "                </li>\n",
    "            </ul>\n",
    "        </li>\n",
    "        <li>\n",
    "            Abaixo, mencionamos os momentos mais importantes:\n",
    "        </li>\n",
    "    </ul>\n",
    " </div>"
   ]
  },
  {
   "cell_type": "markdown",
   "id": "0c476053-41ba-4293-a0b8-1de50e5cad8d",
   "metadata": {},
   "source": [
    "<table>\n",
    "    <thead> \n",
    "        <tr>\n",
    "            <th>\n",
    "                $n$\n",
    "            </th>\n",
    "            <th>\n",
    "                Nome\n",
    "            </th>\n",
    "            <th>\n",
    "                Tipo\n",
    "            </th>\n",
    "            <th>\n",
    "                Fórmula\n",
    "            </th>\n",
    "        </tr>\n",
    "    </thead>\n",
    "    <tbody>\n",
    "        <tr>\n",
    "            <td>\n",
    "                1\n",
    "            </td>\n",
    "            <td>\n",
    "                Média\n",
    "            </td>\n",
    "            <td>\n",
    "                Raw\n",
    "            </td>\n",
    "            <td>\n",
    "                $E[X]$\n",
    "            </td>\n",
    "        </tr>\n",
    "        <tr>\n",
    "            <td>\n",
    "                2\n",
    "            </td>\n",
    "            <td>\n",
    "                Desvio-Padrão\n",
    "            </td>\n",
    "            <td>\n",
    "                Centrado\n",
    "            </td>\n",
    "            <td>\n",
    "                $E[(X-\\mu)^{2}]$\n",
    "            </td>\n",
    "        </tr>\n",
    "        <tr>\n",
    "            <td>\n",
    "                3\n",
    "            </td>\n",
    "            <td>\n",
    "                Skewness\n",
    "            </td>\n",
    "            <td>\n",
    "                Padronizado\n",
    "            </td>\n",
    "            <td>\n",
    "                $E[(\\frac{X-\\mu}{\\sigma})^{3}]$\n",
    "            </td>\n",
    "        </tr>\n",
    "        <tr>\n",
    "            <td>\n",
    "                4\n",
    "            </td>\n",
    "            <td>\n",
    "                Curtose\n",
    "            </td>\n",
    "            <td>\n",
    "                Padronizado\n",
    "            </td>\n",
    "            <td>\n",
    "                $E[(\\frac{X-\\mu}{\\sigma})^{4}]$\n",
    "            </td>\n",
    "        </tr>\n",
    "    </tbody>\n",
    "</table>"
   ]
  },
  {
   "cell_type": "markdown",
   "id": "0d35cf52-5944-402f-90f7-dad81a5d6f35",
   "metadata": {},
   "source": [
    "<h2 style='font-size:30px'> \n",
    "    <a href='https://www.statlect.com/fundamentals-of-probability/moment-generating-function'>\n",
    "        Moment Generating Function\n",
    "    </a>    \n",
    "</h2>\n",
    "<div> \n",
    "    <ul style='font-size:20px'> \n",
    "        <li>\n",
    "        </li>\n",
    "    </ul>\n",
    " </div>"
   ]
  },
  {
   "cell_type": "code",
   "execution_count": 3,
   "id": "7569a5a3-9ca2-4ee2-8431-50d958382132",
   "metadata": {
    "editable": true,
    "slideshow": {
     "slide_type": ""
    },
    "tags": []
   },
   "outputs": [
    {
     "name": "stdout",
     "output_type": "stream",
     "text": [
      "[master dc565bc] Fazer uma tabela HTML mencionando os principais momentos estatísticos (média, var...)\n",
      " 2 files changed, 42 insertions(+), 24 deletions(-)\n",
      "Enumerating objects: 9, done.\n",
      "Counting objects: 100% (9/9), done.\n",
      "Delta compression using up to 24 threads\n",
      "Compressing objects: 100% (5/5), done.\n",
      "Writing objects: 100% (5/5), 1.23 KiB | 1.23 MiB/s, done.\n",
      "Total 5 (delta 2), reused 0 (delta 0), pack-reused 0\n",
      "remote: Resolving deltas: 100% (2/2), completed with 2 local objects.\u001b[K\n",
      "To https://github.com/felipesveiga/reinforcement-learning.git\n",
      "   fb893b0..dc565bc  master -> master\n"
     ]
    }
   ],
   "source": [
    "! git add ..\n",
    "! git commit -m 'Estudar MGF`s'\n",
    "! git push"
   ]
  },
  {
   "cell_type": "markdown",
   "id": "1f1b2689-a931-4698-a10e-cfd9a8043ae2",
   "metadata": {
    "editable": true,
    "slideshow": {
     "slide_type": ""
    },
    "tags": []
   },
   "source": [
    "<p style='color:red'> Mencionei os principais momentos estatísticos (média, var...); Estudar MGF's</p>"
   ]
  }
 ],
 "metadata": {
  "kernelspec": {
   "display_name": "Python 3 (ipykernel)",
   "language": "python",
   "name": "python3"
  },
  "language_info": {
   "codemirror_mode": {
    "name": "ipython",
    "version": 3
   },
   "file_extension": ".py",
   "mimetype": "text/x-python",
   "name": "python",
   "nbconvert_exporter": "python",
   "pygments_lexer": "ipython3",
   "version": "3.10.12"
  }
 },
 "nbformat": 4,
 "nbformat_minor": 5
}
