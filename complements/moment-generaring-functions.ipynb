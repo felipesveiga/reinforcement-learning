{
 "cells": [
  {
   "cell_type": "markdown",
   "id": "5deb5c67-55fb-4eae-9ce5-3ddd5965ded4",
   "metadata": {},
   "source": [
    "<h1 style='font-size:40px'> \n",
    "    <a href='https://web.stanford.edu/class/archive/cs/cs109/cs109.1218/files/student_drive/5.6.pdf'>\n",
    "        Moment Generating Functions\n",
    "    </a></h1>"
   ]
  },
  {
   "cell_type": "markdown",
   "id": "1e86af1e-20d0-48e5-99b4-1a0fd65b76c7",
   "metadata": {},
   "source": [
    "<h2 style='font-size:30px'> \n",
    "    <a href='https://en.wikipedia.org/wiki/Moment_(mathematics)'>\n",
    "        Moments\n",
    "    </a>    \n",
    "</h2>\n",
    "<div> \n",
    "    <ul style='font-size:20px'> \n",
    "        <li>\n",
    "            Momentos são medidas que afirmam certas propriedades do formato de uma distribuição numérica.\n",
    "        </li>\n",
    "        <li>\n",
    "            De maneira geral, o n-ésimo momento de uma distribuição probabilística é definido como $E[X^{n}]$. No entanto, existem sub-tipos de momentos que valem a pena serem mencionados:\n",
    "            <ul>\n",
    "                <li>\n",
    "                   <i>Raw</i>: Definição clássica de momento: $E[X^{n}]=\\int_{-\\infty}^{\\infty}{x^{n}f(x)dx}$     \n",
    "                </li>\n",
    "                <li style='margin-top:20px'>\n",
    "                   <i>Centrado sobre um Valor</i>: $E[(X-c)^{n}]=\\int_{-\\infty}^{\\infty}{(x-c)^{n}f(x)dx}\\text{, }c \\in \\mathbb{R^{+}}$     \n",
    "                </li>\n",
    "                <li style='margin-top:20px'>\n",
    "                   <i>Padronizado</i>: Normalmente, computa-se uma subtração de $X$ por um valor $c$, também: $\\frac{E[(X-c)^{n}]}{E[(X-c)^{2}]^{\\frac{n}{2}}}=\\frac{\\int_{-\\infty}^{\\infty}{(x-c)^{n}f(x)dx}}{[\\int_{-\\infty}^{\\infty}{(x-c)^{2}f(x)dx}]^{\\frac{n}{2}}}\\text{, }c \\in \\mathbb{R^{+}}$     \n",
    "                </li>\n",
    "            </ul>\n",
    "        </li>\n",
    "        <li>\n",
    "            Abaixo, mencionamos os momentos mais importantes:\n",
    "        </li>\n",
    "    </ul>\n",
    " </div>"
   ]
  },
  {
   "cell_type": "markdown",
   "id": "0c476053-41ba-4293-a0b8-1de50e5cad8d",
   "metadata": {},
   "source": [
    "<table>\n",
    "    <thead> \n",
    "        <tr>\n",
    "            <th>\n",
    "                $n$\n",
    "            </th>\n",
    "            <th>\n",
    "                Nome\n",
    "            </th>\n",
    "            <th>\n",
    "                Tipo\n",
    "            </th>\n",
    "            <th>\n",
    "                Fórmula\n",
    "            </th>\n",
    "        </tr>\n",
    "    </thead>\n",
    "    <tbody>\n",
    "        <tr>\n",
    "            <td>\n",
    "                1\n",
    "            </td>\n",
    "            <td>\n",
    "                Média\n",
    "            </td>\n",
    "            <td>\n",
    "                Raw\n",
    "            </td>\n",
    "            <td>\n",
    "                $E[X]$\n",
    "            </td>\n",
    "        </tr>\n",
    "        <tr>\n",
    "            <td>\n",
    "                2\n",
    "            </td>\n",
    "            <td>\n",
    "                Desvio-Padrão\n",
    "            </td>\n",
    "            <td>\n",
    "                Centrado\n",
    "            </td>\n",
    "            <td>\n",
    "                $E[(X-\\mu)^{2}]$\n",
    "            </td>\n",
    "        </tr>\n",
    "        <tr>\n",
    "            <td>\n",
    "                3\n",
    "            </td>\n",
    "            <td>\n",
    "                Skewness\n",
    "            </td>\n",
    "            <td>\n",
    "                Padronizado\n",
    "            </td>\n",
    "            <td>\n",
    "                $E[(\\frac{X-\\mu}{\\sigma})^{3}]$\n",
    "            </td>\n",
    "        </tr>\n",
    "        <tr>\n",
    "            <td>\n",
    "                4\n",
    "            </td>\n",
    "            <td>\n",
    "                Curtose\n",
    "            </td>\n",
    "            <td>\n",
    "                Padronizado\n",
    "            </td>\n",
    "            <td>\n",
    "                $E[(\\frac{X-\\mu}{\\sigma})^{4}]$\n",
    "            </td>\n",
    "        </tr>\n",
    "    </tbody>\n",
    "</table>"
   ]
  },
  {
   "cell_type": "markdown",
   "id": "0d35cf52-5944-402f-90f7-dad81a5d6f35",
   "metadata": {},
   "source": [
    "<h2 style='font-size:30px'> \n",
    "    <a href='https://www.statlect.com/fundamentals-of-probability/moment-generating-function'>\n",
    "        Moment Generating Function\n",
    "    </a>    \n",
    "</h2>\n",
    "<div> \n",
    "    <ul style='font-size:20px'> \n",
    "        <li>\n",
    "            Uma Moment Generating Function é uma função utilizada para caracterizar a distribuição de uma variável aleatória.\n",
    "        </li>\n",
    "    </ul>\n",
    " </div>"
   ]
  },
  {
   "attachments": {},
   "cell_type": "markdown",
   "id": "1fb34d5d-5688-4e25-89f9-32e0d0be31f2",
   "metadata": {},
   "source": [
    "<figure>\n",
    "        <center style='font-size:20px;margin-top:20px'>\n",
    "            $M_{X}(t)=E[e^{tX}]$\n",
    "                <figcaption style='font-size:15px'>\n",
    "                    Fórmula de uma MGF.\n",
    "                </figcaption>\n",
    "        </center>\n",
    "    </figure>"
   ]
  },
  {
   "cell_type": "markdown",
   "id": "97a3e7f1-0dd6-4dec-b466-2db66ec14c2d",
   "metadata": {},
   "source": [
    "<div> \n",
    "    <ul style='font-size:20px'>\n",
    "        <li>\n",
    "            Seu principal traço é que sua $n$-ésima derivada no ponto 0 nos retornará o valor do $n$-ésimo momento da distribuição.\n",
    "        </li>\n",
    "        <li>\n",
    "            Dadas duas variáveis aleatórias $X$ e $Y$, podemos afirmar que suas distribuições são idênticas, caso $M_{X}(t)=M_{Y}(t)$.\n",
    "        </li>\n",
    "        <li>\n",
    "            Uma distribuição apenas terá uma MGF, caso $E[e^{tX}]$ exista e seja finita para cada $t$ contido no intervalo $[-h,h]\\subseteq{\\mathbb{R}}$.\n",
    "        </li>\n",
    "    </ul>\n",
    " </div>"
   ]
  },
  {
   "cell_type": "markdown",
   "id": "f29c88d5-ae64-4d2e-a6bb-2a652d2d0aa1",
   "metadata": {
    "editable": true,
    "slideshow": {
     "slide_type": ""
    },
    "tags": []
   },
   "source": [
    "<figure>\n",
    "        <center style='font-size:20px;margin-top:20px'>\n",
    "            $\\frac{d^{n}M_{X}(t)}{dt^{n}}|_{t=0}=E[X^{n}]=\\mu_{X}(n)$\n",
    "        </center>\n",
    "    </figure>"
   ]
  },
  {
   "cell_type": "code",
   "execution_count": null,
   "id": "8897609a-325a-42b9-9bc2-a2423dfc9667",
   "metadata": {},
   "outputs": [],
   "source": [
    "# https://www.statisticshowto.com/calculus-definitions/moment-definition-examples-generating-function/\n",
    "# https://web.stanford.edu/class/archive/cs/cs109/cs109.1218/files/student_drive/5.6.pdf"
   ]
  },
  {
   "cell_type": "code",
   "execution_count": 2,
   "id": "7569a5a3-9ca2-4ee2-8431-50d958382132",
   "metadata": {
    "editable": true,
    "slideshow": {
     "slide_type": ""
    },
    "tags": []
   },
   "outputs": [
    {
     "name": "stdout",
     "output_type": "stream",
     "text": [
      "[master 0578d42] Continuar de \"Deriving moments with the mgf\"\n",
      " 2 files changed, 172 insertions(+), 14 deletions(-)\n",
      "Enumerating objects: 9, done.\n",
      "Counting objects: 100% (9/9), done.\n",
      "Delta compression using up to 24 threads\n",
      "Compressing objects: 100% (5/5), done.\n",
      "Writing objects: 100% (5/5), 1.55 KiB | 1.55 MiB/s, done.\n",
      "Total 5 (delta 2), reused 0 (delta 0), pack-reused 0\n",
      "remote: Resolving deltas: 100% (2/2), completed with 2 local objects.\u001b[K\n",
      "To https://github.com/felipesveiga/reinforcement-learning.git\n",
      "   8155fa9..0578d42  master -> master\n"
     ]
    }
   ],
   "source": [
    "! git add ..\n",
    "! git commit -m 'Ler PDF de Stanford a partir da seção 5.6.2'\n",
    "! git push"
   ]
  },
  {
   "cell_type": "markdown",
   "id": "1f1b2689-a931-4698-a10e-cfd9a8043ae2",
   "metadata": {
    "editable": true,
    "slideshow": {
     "slide_type": ""
    },
    "tags": []
   },
   "source": [
    "<p style='color:red'> Continuei MGF's; Ler PDF de Stanford a partir da seção 5.6.2\n",
    "\"</p>"
   ]
  },
  {
   "cell_type": "markdown",
   "id": "7febaae7-abb7-421f-a96f-071bbd4d3b27",
   "metadata": {
    "editable": true,
    "slideshow": {
     "slide_type": ""
    },
    "tags": []
   },
   "source": [
    "<p style='color:red'> Terminando o artigo, ler os dois outros links comentados\n",
    "\"</p>"
   ]
  }
 ],
 "metadata": {
  "kernelspec": {
   "display_name": "Python 3 (ipykernel)",
   "language": "python",
   "name": "python3"
  },
  "language_info": {
   "codemirror_mode": {
    "name": "ipython",
    "version": 3
   },
   "file_extension": ".py",
   "mimetype": "text/x-python",
   "name": "python",
   "nbconvert_exporter": "python",
   "pygments_lexer": "ipython3",
   "version": "3.10.12"
  }
 },
 "nbformat": 4,
 "nbformat_minor": 5
}
