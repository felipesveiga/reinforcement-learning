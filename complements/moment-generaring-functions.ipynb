{
 "cells": [
  {
   "cell_type": "markdown",
   "id": "5deb5c67-55fb-4eae-9ce5-3ddd5965ded4",
   "metadata": {},
   "source": [
    "<h1 style='font-size:40px'> \n",
    "    <a href='https://web.stanford.edu/class/archive/cs/cs109/cs109.1218/files/student_drive/5.6.pdf'>\n",
    "        Moment Generating Functions\n",
    "    </a></h1>"
   ]
  },
  {
   "cell_type": "markdown",
   "id": "1e86af1e-20d0-48e5-99b4-1a0fd65b76c7",
   "metadata": {},
   "source": [
    "<h2 style='font-size:30px'> \n",
    "    <a href='https://en.wikipedia.org/wiki/Moment_(mathematics)'>\n",
    "        Moments\n",
    "    </a>    \n",
    "</h2>\n",
    "<div> \n",
    "    <ul style='font-size:20px'> \n",
    "        <li>\n",
    "            Momentos são medidas que afirmam certas propriedades do formato de uma distribuição numérica.\n",
    "        </li>\n",
    "        <li>\n",
    "            De maneira geral, o n-ésimo momento de uma distribuição probabilística é definido como $E[X^{n}]$. No entanto, existem sub-tipos de momentos que valem a pena serem mencionados:\n",
    "        </li>\n",
    "    </ul>\n",
    " </div>"
   ]
  },
  {
   "cell_type": "code",
   "execution_count": 1,
   "id": "7569a5a3-9ca2-4ee2-8431-50d958382132",
   "metadata": {
    "editable": true,
    "slideshow": {
     "slide_type": ""
    },
    "tags": []
   },
   "outputs": [
    {
     "name": "stdout",
     "output_type": "stream",
     "text": [
      "[master 352d881] Estudar MGF`s, antes de ler sobre as Chernoff Bounds\n",
      " 4 files changed, 200 insertions(+), 100 deletions(-)\n",
      " create mode 100644 complements/.ipynb_checkpoints/moment-generaring-functions-checkpoint.ipynb\n",
      " create mode 100644 complements/moment-generaring-functions.ipynb\n",
      "Enumerating objects: 9, done.\n",
      "Counting objects: 100% (9/9), done.\n",
      "Delta compression using up to 24 threads\n",
      "Compressing objects: 100% (6/6), done.\n",
      "Writing objects: 100% (6/6), 4.66 KiB | 4.66 MiB/s, done.\n",
      "Total 6 (delta 1), reused 0 (delta 0), pack-reused 0\n",
      "remote: Resolving deltas: 100% (1/1), completed with 1 local object.\u001b[K\n",
      "To https://github.com/felipesveiga/reinforcement-learning.git\n",
      "   324eee0..352d881  master -> master\n"
     ]
    }
   ],
   "source": [
    "! git add ..\n",
    "! git commit -m 'Mencionar sub-tipos de momentos (raw, centrado e padronizado)'\n",
    "! git push"
   ]
  },
  {
   "cell_type": "markdown",
   "id": "1f1b2689-a931-4698-a10e-cfd9a8043ae2",
   "metadata": {
    "editable": true,
    "slideshow": {
     "slide_type": ""
    },
    "tags": []
   },
   "source": [
    "<p style='color:red'> Iniciei estudo sobre Momentos; Mencionar sub-tipos de momentos (raw, centrado e padronizado)</p>"
   ]
  }
 ],
 "metadata": {
  "kernelspec": {
   "display_name": "Python 3 (ipykernel)",
   "language": "python",
   "name": "python3"
  },
  "language_info": {
   "codemirror_mode": {
    "name": "ipython",
    "version": 3
   },
   "file_extension": ".py",
   "mimetype": "text/x-python",
   "name": "python",
   "nbconvert_exporter": "python",
   "pygments_lexer": "ipython3",
   "version": "3.10.12"
  }
 },
 "nbformat": 4,
 "nbformat_minor": 5
}
