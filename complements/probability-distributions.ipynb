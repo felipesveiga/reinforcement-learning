{
 "cells": [
  {
   "cell_type": "markdown",
   "id": "893e877a-c814-4c76-aa82-6b848b9e7e21",
   "metadata": {},
   "source": [
    "<h1 style='font-size:40px'> \n",
    "        Probability Distributions\n",
    "</h1>\n",
    "<div> \n",
    "    <ul style='font-size:20px'> \n",
    "        <li>\n",
    "            Arquivo em que discutimos distribuições probabilísticas que baseiam algumas técnicas de Reinforcement Learning.\n",
    "        </li>\n",
    "    </ul>\n",
    " </div>"
   ]
  },
  {
   "cell_type": "markdown",
   "id": "499307b9-f360-4f44-b08b-3ce85c0f220e",
   "metadata": {},
   "source": [
    "<h2 style='font-size:30px'> \n",
    "    <a href='https://www.statlect.com/probability-distributions/gamma-distribution'>Gamma Distribution</a>\n",
    "</h2>\n",
    "<div> \n",
    "    <ul style='font-size:20px'> \n",
    "        <li>\n",
    "            A Distribuição Gamma se baseia na $\\chi^2$.\n",
    "        </li>\n",
    "        <li>\n",
    "            Considere $Z_1,\\ldots,Z_n$ como variáveis normais padrão. Sendo assim, podemos definir uma distribuição chi-quadrado com n-graus de liberdade $\\displaystyle \\chi_{n}^{2}=\\sum_{i=1}^{n}{Z_{i}^{2}}$.\n",
    "        </li>\n",
    "        <li>\n",
    "            Seja $h\\in{\\mathbb{R}^{+}}$, podemos definir uma Distribuição Gamma como: \n",
    "        </li>\n",
    "    </ul>\n",
    " </div>"
   ]
  },
  {
   "cell_type": "code",
   "execution_count": 5,
   "id": "a5359b0b-a021-4901-8be2-d1b3726a9f2c",
   "metadata": {},
   "outputs": [
    {
     "name": "stdout",
     "output_type": "stream",
     "text": [
      "[master 521fd00] Pesquisar sobre Gamma Function\n",
      " 3 files changed, 42 insertions(+), 14 deletions(-)\n",
      " create mode 100644 pdf/thompson.pdf\n",
      "Enumerating objects: 10, done.\n",
      "Counting objects: 100% (10/10), done.\n",
      "Delta compression using up to 24 threads\n",
      "Compressing objects: 100% (6/6), done.\n",
      "Writing objects: 100% (6/6), 216.98 KiB | 31.00 MiB/s, done.\n",
      "Total 6 (delta 4), reused 0 (delta 0), pack-reused 0\n",
      "remote: Resolving deltas: 100% (4/4), completed with 4 local objects.\u001b[K\n",
      "To https://github.com/felipesveiga/reinforcement-learning.git\n",
      "   42c007c..521fd00  master -> master\n"
     ]
    }
   ],
   "source": [
    "! git add .\n",
    "! git commit -m 'Continuar Gamma Function'\n",
    "! git push"
   ]
  },
  {
   "cell_type": "markdown",
   "id": "4e9fa79e-e0d4-46a2-8bb2-c8d2d5e95cf3",
   "metadata": {
    "editable": true,
    "slideshow": {
     "slide_type": ""
    },
    "tags": []
   },
   "source": [
    "<p style='color:red'> Iniciei estudo sobre Gamma Function; Continuar Gamma Function</p>"
   ]
  },
  {
   "cell_type": "markdown",
   "id": "5eee0d3f-510d-406a-8e0a-a61cdb25ca91",
   "metadata": {
    "editable": true,
    "slideshow": {
     "slide_type": ""
    },
    "tags": []
   },
   "source": [
    "<p style='color:red'> Para entender Thompson Sampling, preciso aprender: gamma distribution/funciton; beta distribution, Conjugacy of distributions</p>"
   ]
  }
 ],
 "metadata": {
  "kernelspec": {
   "display_name": "Python 3 (ipykernel)",
   "language": "python",
   "name": "python3"
  },
  "language_info": {
   "codemirror_mode": {
    "name": "ipython",
    "version": 3
   },
   "file_extension": ".py",
   "mimetype": "text/x-python",
   "name": "python",
   "nbconvert_exporter": "python",
   "pygments_lexer": "ipython3",
   "version": "3.10.12"
  }
 },
 "nbformat": 4,
 "nbformat_minor": 5
}
