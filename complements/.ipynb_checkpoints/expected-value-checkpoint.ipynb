{
 "cells": [
  {
   "cell_type": "markdown",
   "id": "7f7e261a-0424-4ae3-abbd-bf477f01558f",
   "metadata": {
    "jp-MarkdownHeadingCollapsed": true
   },
   "source": [
    "<h1 style='font-size:40px'> \n",
    "    Expected Values\n",
    "</h1>\n",
    "<div> \n",
    "    <ul style='font-size:20px'>\n",
    "        <li>\n",
    "            O Valor esperado de uma variável $X$ consiste na soma de todos os seus valores possíveis ponderados pela probabilidade $p(x)$ de eles ocorrerem.\n",
    "        </li>\n",
    "     </ul>\n",
    "</div>"
   ]
  },
  {
   "cell_type": "markdown",
   "id": "cd46877d-902b-4768-bc46-86dfceb672ca",
   "metadata": {},
   "source": [
    "<figure>\n",
    "    <center style='font-size:20px;margin-top:20px'> \n",
    "            $\\displaystyle E[X]=\\sum_{x\\in R_{X}}{xP(X=x)}$\n",
    "            <figcaption style='font-size:15px'> \n",
    "                Equação do Valor Esperado de uma variável discreta.\n",
    "            </figcaption>\n",
    "    </center>\n",
    "</figure>"
   ]
  },
  {
   "cell_type": "markdown",
   "id": "d2717906-b9de-48a3-85ec-88640c0e6d85",
   "metadata": {},
   "source": [
    "<h2 style='font-size:30px'> \n",
    "    Generalização do Valor Esperado: The Riemann-Stieltjes integral\n",
    "</h2>\n",
    "<div> \n",
    "    <ul style='font-size:20px'> \n",
    "        <li>  \n",
    "            É possível generalizarmos a equação do Valor Esperado para qualquer tipo de variável (seja ela discreta ou contínua). Para isso, usamos a chamada integral de Riemann-Stieltjes. \n",
    "        </li>\n",
    "    </ul>\n",
    " </div>"
   ]
  },
  {
   "cell_type": "markdown",
   "id": "3a9befaf-5194-477f-925d-8f17dfca8e67",
   "metadata": {},
   "source": [
    "<h2 style='font-size:30px'> \n",
    "    <a href='https://www.statlect.com/fundamentals-of-probability/conditional-expectation'>Conditional Expectations</a>\n",
    "</h2>\n",
    "<div> \n",
    "    <ul style='font-size:20px'> \n",
    "        <li>  \n",
    "            Expectativas condicionais consistem no valor esperado de uma variável $X$ condicionado a um acontecimento $y$.\n",
    "        </li>\n",
    "        <li>\n",
    "            No caso, as probabilidades consideradas em $E[X|Y=y]$ serão, basicamente, um Bayes $P(x|Y=y)$.\n",
    "        </li>\n",
    "    </ul>\n",
    " </div>"
   ]
  },
  {
   "cell_type": "markdown",
   "id": "db5ba41a-3367-4cde-92d1-d49988a95f8a",
   "metadata": {},
   "source": [
    "<figure>\n",
    "    <center style='font-size:20px;margin-top:20px'> \n",
    "            $\\displaystyle E[X|Y=y]=\\int_{-\\infty}^{\\infty}xf_{X|Y=y}(x)dx$\n",
    "            <figcaption style='font-size:15px'> \n",
    "                Fórmula da Expectativa condicional, em que $f_{X|Y=y}(x)$ é a PDF condicional de $X|Y=y$.\n",
    "            </figcaption>\n",
    "    </center>\n",
    "</figure>"
   ]
  },
  {
   "cell_type": "code",
   "execution_count": 2,
   "id": "bfa6970f-41e2-4f33-95ab-c785c56ba481",
   "metadata": {},
   "outputs": [
    {
     "name": "stdout",
     "output_type": "stream",
     "text": [
      "[master e632ebb] Ler artigo sobre valor esperado, para entender a Riemann-Stieltjes integral e Linearity of the expected value\n",
      " 2 files changed, 28 insertions(+), 22 deletions(-)\n",
      "Enumerating objects: 9, done.\n",
      "Counting objects: 100% (9/9), done.\n",
      "Delta compression using up to 24 threads\n",
      "Compressing objects: 100% (5/5), done.\n",
      "Writing objects: 100% (5/5), 940 bytes | 940.00 KiB/s, done.\n",
      "Total 5 (delta 4), reused 0 (delta 0), pack-reused 0\n",
      "remote: Resolving deltas: 100% (4/4), completed with 4 local objects.\u001b[K\n",
      "To https://github.com/felipesveiga/reinforcement-learning.git\n",
      "   72d0c21..e632ebb  master -> master\n"
     ]
    }
   ],
   "source": [
    "! git add .\n",
    "! git commit -m 'Continuar de \"The Riemann-Stieltjes integral: intuition\"'\n",
    "! git push"
   ]
  },
  {
   "cell_type": "markdown",
   "id": "b0b62ab2-77ee-4cf6-871a-937b5366cb6a",
   "metadata": {
    "editable": true,
    "slideshow": {
     "slide_type": ""
    },
    "tags": []
   },
   "source": [
    "<p style='color:red'> Continuar de \"The Riemann-Stieltjes integral: intuition\n",
    "\"; Continuar de \"Conditional expectation in general\" (Conditional Expectation)</p>"
   ]
  }
 ],
 "metadata": {
  "kernelspec": {
   "display_name": "Python 3 (ipykernel)",
   "language": "python",
   "name": "python3"
  },
  "language_info": {
   "codemirror_mode": {
    "name": "ipython",
    "version": 3
   },
   "file_extension": ".py",
   "mimetype": "text/x-python",
   "name": "python",
   "nbconvert_exporter": "python",
   "pygments_lexer": "ipython3",
   "version": "3.10.12"
  }
 },
 "nbformat": 4,
 "nbformat_minor": 5
}
