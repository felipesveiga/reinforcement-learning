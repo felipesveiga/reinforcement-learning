{
 "cells": [
  {
   "cell_type": "markdown",
   "id": "893e877a-c814-4c76-aa82-6b848b9e7e21",
   "metadata": {},
   "source": [
    "<h1 style='font-size:40px'> \n",
    "        Probability Distributions\n",
    "</h1>\n",
    "<div> \n",
    "    <ul style='font-size:20px'> \n",
    "        <li>\n",
    "            Arquivo em que discutimos distribuições probabilísticas que baseiam algumas técnicas de Reinforcement Learning.\n",
    "        </li>\n",
    "    </ul>\n",
    " </div>"
   ]
  },
  {
   "cell_type": "markdown",
   "id": "499307b9-f360-4f44-b08b-3ce85c0f220e",
   "metadata": {},
   "source": [
    "<h2 style='font-size:30px'> \n",
    "    <a href='https://www.statlect.com/probability-distributions/gamma-distribution'>Gamma Distribution</a>\n",
    "</h2>\n",
    "<div> \n",
    "    <ul style='font-size:20px'> \n",
    "        <li>\n",
    "            A Distribuição Gamma se baseia na $\\chi^2$.\n",
    "        </li>\n",
    "        <li>\n",
    "            Considere $Z_1,\\ldots,Z_n$ como variáveis normais padrão. Sendo assim, podemos definir uma distribuição chi-quadrado com n-graus de liberdade $\\displaystyle \\chi_{n}^{2}=\\sum_{i=1}^{n}{Z_{i}^{2}}$.\n",
    "        </li>\n",
    "        <li>\n",
    "            Seja $h\\in{\\mathbb{R}^{+}}$, podemos definir uma Distribuição Gamma como: \n",
    "        </li>\n",
    "    </ul>\n",
    " </div>"
   ]
  },
  {
   "cell_type": "markdown",
   "id": "c95aa506-984d-4b0b-8cb7-9258158c9251",
   "metadata": {},
   "source": [
    "<figure>\n",
    "        <center style='font-size:20px;margin-top:20px'>\n",
    "            $\\displaystyle X=\\frac{h}{n}\\chi_{n}^{2}=h\\left[\\frac{1}{n}\\sum_{i=1}^{n}{Z_{i}^{2}}\\right]$\n",
    "        </center>\n",
    "    </figure>"
   ]
  },
  {
   "cell_type": "markdown",
   "id": "24348f94-7cb5-4baf-be77-b54a5a4e95f4",
   "metadata": {},
   "source": [
    "<h3 style='font-size:30px;font-style:italic'> Definição</h3>\n",
    "<div> \n",
    "    <ul style='font-size:20px'> \n",
    "        <li>\n",
    "            Seja $X,n,h\\in\\mathbb{R}^{+}$, dizemos que $X$ possui uma Distribuição Gamma de parâmetros $n,h$ com PDF:\n",
    "        </li>\n",
    "    </ul>\n",
    "</div>"
   ]
  },
  {
   "cell_type": "markdown",
   "id": "f451bb86-399e-454b-9917-4b1d69f86d32",
   "metadata": {},
   "source": [
    "<figure>\n",
    "        <center style='font-size:20px;margin-top:20px'>\n",
    "            $\\displaystyle f_{X}{(x)}=cx^{\\left(\\frac{n}{2}-1\\right)}e^{\\left(-\\frac{n}{h}\\frac{1}{2}x\\right)}\\text{, }c=\\frac{\\left(\\frac{n}{h}\\right)^{\\frac{n}{2}}}{2^{\\frac{n}{2}}\\Gamma{(\\frac{n}{2})}}$\n",
    "        </center>\n",
    "    </figure>"
   ]
  },
  {
   "cell_type": "markdown",
   "id": "1c197f61-d5ca-4983-82b6-4031c5cf4338",
   "metadata": {},
   "source": [
    "<h3 style='font-size:30px;font-style:italic'> \n",
    "    <a href='https://www.statlect.com/mathematical-tools/gamma-function'>\n",
    "        Gamma Function\n",
    "    </a>\n",
    "</h3>\n",
    "<div> \n",
    "    <ul style='font-size:20px'> \n",
    "        <li>\n",
    "            A função Gamma consiste em uma generalização da função fatorial para o domínio $\\mathbb{R}^{+}$.\n",
    "        </li>\n",
    "        <li>\n",
    "            É bastante utilizada em Estatística, como na Distribuição Gamma.\n",
    "        </li>\n",
    "    </ul>\n",
    "</div>"
   ]
  },
  {
   "cell_type": "markdown",
   "id": "0421cf24-b2e5-4c47-8c06-db5aa3ba03f3",
   "metadata": {},
   "source": [
    "<figure>\n",
    "        <center style='font-size:20px;margin-top:20px'>\n",
    "            $\\displaystyle \\Gamma{(z)}=\\Gamma{(z-1)}(z-1)\\text{, }z\\in\\mathbb{R}^{+}$\n",
    "        </center>\n",
    "    </figure>"
   ]
  },
  {
   "cell_type": "markdown",
   "id": "7feaafe3-28af-49f2-80eb-f1b7fadd8ff7",
   "metadata": {
    "tags": []
   },
   "source": [
    "<h4 style='font-size:30px;font-style:italic;text-decoration:underline'> Prova</h4>\n",
    "<div> \n",
    "    <ul style='font-size:20px'> \n",
    "        <li> \n",
    "              Seja a Função Gamma formalmente definida como $\\displaystyle \\int_{0}^{\\infty}{x^{(z-1)}e^{-x}dx}$, podemos obter a sua forma recursiva com Integração por Partes:\n",
    "        </li>\n",
    "    </ul>\n",
    "</div>"
   ]
  },
  {
   "cell_type": "markdown",
   "id": "1fda3f92-9dba-493e-9e18-1f8a1c9ed746",
   "metadata": {},
   "source": [
    "<figure>\n",
    "        <center style='font-size:20px;margin-top:20px'>\n",
    "            $$\n",
    "\\begin{align*}%\\label{}\\displaystyle\n",
    "T(z)&=\\int_{0}^{\\infty}{x^{(z-1)}e^{-x}dx}\\\\\n",
    "    &=\\left[-x^{(z-1)}e^{-x}\\right]_{0}^{\\infty}+\\int_{0}^{\\infty}{(z-1)x^{(z-2)}e^{-x}dx} \\\\\n",
    "    &=(0-0)+(z-1)\\int_{0}^{\\infty}{x^{(z-1)-1}e^{-x}dx} \\\\\n",
    "    &=(z-1)\\Gamma{(z-1)}\n",
    "\\end{align*}\n",
    "            $$\n",
    "        </center>\n",
    "    </figure>"
   ]
  },
  {
   "cell_type": "markdown",
   "id": "8599b852-1642-485c-8770-a455284e14d0",
   "metadata": {
    "tags": []
   },
   "source": [
    "<h4 style='font-size:30px;font-style:italic;text-decoration:underline'> Propriedade</h4>\n",
    "<div> \n",
    "    <ul style='font-size:20px'> \n",
    "        <li> \n",
    "            Ao multiplicarmos uma distribuição Gamma $X$ por $c, c\\in \\mathbb{R}^{+}$, obtemos uma outra distribuição Gamma $Y$.\n",
    "        </li>\n",
    "    </ul>\n",
    "</div>"
   ]
  },
  {
   "cell_type": "markdown",
   "id": "256f0959-bf49-4ad3-91d4-e75ca5a3ff3a",
   "metadata": {},
   "source": [
    "<figure>\n",
    "        <center style='font-size:20px;margin-top:20px'>\n",
    "            $\\displaystyle Y=cX=c\\left(\\frac{h}{n}\\chi_{n}^{2}\\right)=\\frac{ch}{n}\\chi_{n}^{2}$\n",
    "        </center>\n",
    "    </figure>"
   ]
  },
  {
   "cell_type": "markdown",
   "id": "b6633523-4023-4271-844b-01ba3ba6c105",
   "metadata": {},
   "source": [
    "<h2 style='font-size:30px'> \n",
    "    <a href='https://www.statlect.com/probability-distributions/beta-distribution'>Beta Distribution</a>\n",
    "</h2>\n",
    "<div> \n",
    "    <ul style='font-size:20px'> \n",
    "        <li>\n",
    "            A Distribuição Beta consiste em uma distribuição de probabilidade contínua usada para modelar a incerteza de sucesso de um experimento.\n",
    "        </li>\n",
    "        <li>\n",
    "            Usamos essa distribuição para analisar experimentos que envolvem resultados binários (sucesso, fracasso).\n",
    "        </li>\n",
    "        <li>\n",
    "            Ao executarmos uma rodada de nosso experimento, desejamos atualizar a probabilidade de sucesso à luz da nova informação obtida. O resultado dessa atualização é uma Distribuição Beta, de parâmetros $k-1$ e $n-k-1$.\n",
    "        </li>\n",
    "    </ul>\n",
    " </div>"
   ]
  },
  {
   "cell_type": "markdown",
   "id": "72a8af0e-eb66-4a3a-ae37-3aab895d928e",
   "metadata": {},
   "source": [
    "<figure>\n",
    "        <center style='font-size:20px;margin-top:20px'>\n",
    "            $\\displaystyle f_{X}{(x)}=\\frac{1}{B(\\alpha,\\beta)}x^{\\alpha-1}(1-x)^{\\beta-1}\\iff x,\\alpha,\\beta \\in [0,1]$\n",
    "        </center>\n",
    "    </figure>"
   ]
  },
  {
   "cell_type": "markdown",
   "id": "986257fc-ca14-450d-b1f5-ef6cb6c9bb51",
   "metadata": {},
   "source": [
    "<h3 style='font-size:30px;font-style:italic'> \n",
    "    <a href='https://www.statlect.com/mathematical-tools/beta-function'>\n",
    "        Beta Function\n",
    "    </a>\n",
    "</h3>\n",
    "<div> \n",
    "    <ul style='font-size:20px'> \n",
    "        <li>\n",
    "            A Função Beta consiste em uma função de dois parâmetros bastante usada no ramo da Estatística. Basicamente, se dá como um quociente de Gammas. \n",
    "        </li>\n",
    "    </ul>\n",
    "</div>"
   ]
  },
  {
   "cell_type": "markdown",
   "id": "003b77f4-9ed1-4aeb-96a3-bd26c05cc3d4",
   "metadata": {},
   "source": [
    "<figure>\n",
    "        <center style='font-size:20px;margin-top:20px'>\n",
    "            $\\displaystyle B(x,y)=\\frac{\\Gamma{(x)}\\Gamma{(y)}}{\\Gamma{(x+y)}}\\iff{x,y \\in (\\mathbb{R}^{+})^{2}}$\n",
    "        </center>\n",
    "    </figure>"
   ]
  },
  {
   "cell_type": "markdown",
   "id": "55318273-aa4b-4bd5-a470-d8c5d2ef02d2",
   "metadata": {
    "tags": []
   },
   "source": [
    "<h4 style='font-size:30px;font-style:italic;text-decoration:underline'> Representações em Integrais </h4>\n",
    "<div> \n",
    "    <ul style='font-size:20px'>\n",
    "        <li>\n",
    "            A Função Beta ainda pode ser representada em forma de integrais. Isso é bastante utilizado em demonstrações, como a da Distribuição Beta. \n",
    "        </li>\n",
    "     </ul>\n",
    "</div>"
   ]
  },
  {
   "cell_type": "markdown",
   "id": "feeaff5f-2968-4220-a5df-c78db3078eee",
   "metadata": {},
   "source": [
    "<figure>\n",
    "        <center style='font-size:20px;margin-top:20px'>\n",
    "            $\\displaystyle B(x,y)=\\int_{0}^{\\infty}{t^{x-1}(1+t)^{-x-y}dt}$\n",
    "            <figcaption style='font-size:15px'> Forma em intervalo $[0,\\infty)$</figcaption>\n",
    "        </center>\n",
    "    </figure>"
   ]
  },
  {
   "cell_type": "markdown",
   "id": "823209dc-c2c7-4584-97de-57c10e7fd518",
   "metadata": {},
   "source": [
    "<figure>\n",
    "        <center style='font-size:20px;margin-top:20px'>\n",
    "            $\\displaystyle B(x,y)=\\int_{0}^{1}{t^{x-1}(1-t)^{y-1}dt}$\n",
    "            <figcaption style='font-size:15px'> Forma em intervalo $[0,1]$</figcaption>\n",
    "        </center>\n",
    "    </figure>"
   ]
  },
  {
   "cell_type": "markdown",
   "id": "01f347f0-8266-400c-ba83-495dcc755e06",
   "metadata": {},
   "source": [
    "<figure>\n",
    "        <center style='font-size:20px;margin-top:20px'>\n",
    "            $\\displaystyle B(z,x,y)=\\int_{0}^{z}{t^{x-1}(1-t)^{y-1}dt}\\text{, }z\\in{(0,1)}$\n",
    "            <figcaption style='font-size:15px'> Forma em intervalo $[0,z]$ (Incomplete Beta Function)</figcaption>\n",
    "        </center>\n",
    "    </figure>"
   ]
  },
  {
   "cell_type": "markdown",
   "id": "156fe720-5de4-4148-adb2-b5a124468ca7",
   "metadata": {},
   "source": [
    "<h3 style='font-size:30px;font-style:italic'> \n",
    "    Prova Convergência em 1\n",
    "</h3>\n",
    "<div> \n",
    "    <ul style='font-size:20px'> \n",
    "        <li>\n",
    "            Abaixo, provamos que a integral da PDF de Beta é 1 em seu domínio.\n",
    "        </li>\n",
    "    </ul>\n",
    "</div>"
   ]
  },
  {
   "cell_type": "markdown",
   "id": "8b1fa5a0-0b68-4e01-b667-94af36196f18",
   "metadata": {},
   "source": [
    "<figure>\n",
    "        <center style='font-size:20px;margin-top:20px'>\n",
    "            $$\n",
    "\\begin{align*}%\\label{}\\displaystyle\n",
    "\\int_{0}^{1}{f_{X}{(x)}dx}&=\\int_{0}^{1}{\\frac{1}{B(\\alpha,\\beta)}x^{\\alpha-1}(1-x)^{\\beta-1}}\\\\\n",
    "&=\\frac{1}{B(\\alpha,\\beta)}\\int_{0}^{1}{x^{\\alpha-1}(1-x)^{\\beta-1}dx}\\\\\n",
    "&=\\frac{1}{B(\\alpha,\\beta)}B(\\alpha,\\beta)=1 \\text{  (Uso da segunda representação em integrais)}\n",
    "\\end{align*}\n",
    "            $$\n",
    "        </center>\n",
    "    </figure>"
   ]
  },
  {
   "cell_type": "markdown",
   "id": "ee92d624-5968-44f9-8cf3-84d8f79d3f6f",
   "metadata": {},
   "source": [
    "<h3 style='font-size:30px;font-style:italic'> \n",
    "    Relation to the Binomial Distribution\n",
    "</h3>\n",
    "<div> \n",
    "    <ul style='font-size:20px'> \n",
    "        <li>\n",
    "            Em certos experimentos, como Thompson Sampling, devemos estimar a probabilidade $x$ de sucesso de uma variável Binomial à luz da coleta de dados.\n",
    "        </li>\n",
    "        <li>\n",
    "            Para isso, podemos assumir que $x$ pertence a uma distribuição prior Beta de parâmetros $\\alpha$ e $\\beta$.\n",
    "        </li>\n",
    "        <li>\n",
    "            A cada amostragem, geramos uma nova distribuição Beta, com os parâmetros baseados nas novas informações apresentadas.  \n",
    "        </li>\n",
    "    </ul>\n",
    "</div>"
   ]
  },
  {
   "cell_type": "markdown",
   "id": "8e305e8e-8a3c-4cd6-966b-859a52c80682",
   "metadata": {
    "tags": []
   },
   "source": [
    "<h4 style='font-size:30px;font-style:italic;text-decoration:underline'> Por que Prior Beta?</h4>\n",
    "<div> \n",
    "    <ul style='font-size:20px'>\n",
    "        <li>\n",
    "            Escolhemos Beta como distribuição prior porque seu domínio é $[0,1]$. Uma probabilidade deve pertencer a esse intervalo.\n",
    "        </li>\n",
    "        <li>\n",
    "            Além disso, ela permite customizarmos o seu formato para refletirmos suposições anteriores (parâmetros $\\alpha$ e $\\beta$). Caso não as tenhamos, definir $\\alpha=\\beta=1$ garante probabilidades uniformes.\n",
    "        </li>\n",
    "     </ul>\n",
    "</div>"
   ]
  },
  {
   "cell_type": "markdown",
   "id": "e80a3837-bc8c-429d-b3bb-bd0a04460e7a",
   "metadata": {
    "tags": []
   },
   "source": [
    "<h4 style='font-size:30px;font-style:italic;text-decoration:underline'> Prova</h4>\n",
    "<div> \n",
    "    <ul style='font-size:20px'>\n",
    "        <li>\n",
    "            Supomos que $x$ pertence a uma distribuição Beta $f_{X}{(x)}=\\frac{1}{B(\\alpha,\\beta)}x^{\\alpha-1}(1-x)^{\\beta-1}$\n",
    "        </li>\n",
    "        <li>\n",
    "            Em seguida, realizamos um experimento Binomial de $y$ sucessos que levou em conta a probabilidade $x$ \n",
    "        </li>\n",
    "     </ul>\n",
    "</div>"
   ]
  },
  {
   "cell_type": "markdown",
   "id": "c95d816a-af4b-49dd-987c-c2b7efbe1e52",
   "metadata": {},
   "source": [
    "<figure>\n",
    "        <center style='font-size:20px;margin-top:20px'>\n",
    "            $f_{Y|X=x}{(y)}=\\binom{n}{y}x^{y}(1-x)^{n-y}$\n",
    "        </center>\n",
    "    </figure>"
   ]
  },
  {
   "cell_type": "markdown",
   "id": "0425f6b5-2cc8-43a7-b5e6-4e25b54b2ba1",
   "metadata": {},
   "source": [
    "<div> \n",
    "    <ul style='font-size:20px'>\n",
    "        <li>\n",
    "            Dado isso, podemos definir a joint PDF de $X$ e $Y$ como:\n",
    "        </li>\n",
    "     </ul>\n",
    "</div>"
   ]
  },
  {
   "cell_type": "markdown",
   "id": "86dcb17a-3056-41c8-adf2-6f7cdc5b2bce",
   "metadata": {
    "editable": true,
    "slideshow": {
     "slide_type": ""
    },
    "tags": []
   },
   "source": [
    "<figure>\n",
    "        <center style='font-size:20px;margin-top:20px'>\n",
    "            $$\\begin{align*}%\\label{}\n",
    "                \\displaystyle f_{XY}{(x,y)}&=f_{Y|X=x}{(y)}f_{X}{(x)} \\\\\n",
    "                &=\\binom{n}{y}x^{y}(1-x)^{n-y}\\frac{1}{B(\\alpha,\\beta)}x^{\\alpha-1}(1-x)^{\\beta-1} \\\\\n",
    "                &=\\frac{1}{B(\\alpha,\\beta)}\\binom{n}{y}x^{(\\alpha+y)-1}(1-x)^{(\\beta+n+y)-1} \\\\\n",
    "                &=\\frac{B(\\alpha+y,\\beta+n-y)}{B(\\alpha,\\beta)}\\binom{n}{y}\\frac{1}{B(\\alpha+y,\\beta+n-y)}x^{(\\alpha+y)-1}(1-x)^{(\\beta+n-y)-1}\n",
    "            \\end{align*}\n",
    "            $$\n",
    "        </center>\n",
    "    </figure>"
   ]
  },
  {
   "cell_type": "code",
   "execution_count": null,
   "id": "212e09b4-2d75-4e53-9227-8c96e69845e2",
   "metadata": {},
   "outputs": [],
   "source": [
    "# https://medium.com/@romoflow/the-beta-binomial-model-an-introduction-to-bayesian-statistics-154395875f93"
   ]
  },
  {
   "cell_type": "code",
   "execution_count": 2,
   "id": "a5359b0b-a021-4901-8be2-d1b3726a9f2c",
   "metadata": {},
   "outputs": [
    {
     "name": "stdout",
     "output_type": "stream",
     "text": [
      "[master 62a83ed] Dizer porque usamos Beta como prior\n",
      " 2 files changed, 22 insertions(+), 30 deletions(-)\n",
      "Enumerating objects: 9, done.\n",
      "Counting objects: 100% (9/9), done.\n",
      "Delta compression using up to 24 threads\n",
      "Compressing objects: 100% (5/5), done.\n",
      "Writing objects: 100% (5/5), 880 bytes | 880.00 KiB/s, done.\n",
      "Total 5 (delta 4), reused 0 (delta 0), pack-reused 0\n",
      "remote: Resolving deltas: 100% (4/4), completed with 4 local objects.\u001b[K\n",
      "To https://github.com/felipesveiga/reinforcement-learning.git\n",
      "   08ca6ff..62a83ed  master -> master\n"
     ]
    }
   ],
   "source": [
    "! git add .\n",
    "! git commit -m 'Iniciei prova da relação com a Binomial; Continuar a partir da fatorização da joint PDF'\n",
    "! git push"
   ]
  },
  {
   "cell_type": "markdown",
   "id": "4e9fa79e-e0d4-46a2-8bb2-c8d2d5e95cf3",
   "metadata": {
    "editable": true,
    "slideshow": {
     "slide_type": ""
    },
    "tags": []
   },
   "source": [
    "<p style='color:red'>Iniciei prova da relação com a Binomial; Continuar a partir da fatorização da joint PDF; Ler artigo sobre join PDF e Fatorization of joint PDF's; Usar conversa com o GPT para basear as explicações</p>"
   ]
  },
  {
   "cell_type": "markdown",
   "id": "5eee0d3f-510d-406a-8e0a-a61cdb25ca91",
   "metadata": {
    "editable": true,
    "slideshow": {
     "slide_type": ""
    },
    "tags": []
   },
   "source": [
    "<p style='color:red'> Para entender Thompson Sampling, preciso aprender: gamma distribution/function; beta distribution, Conjugacy of distributions</p>"
   ]
  }
 ],
 "metadata": {
  "kernelspec": {
   "display_name": "Python 3 (ipykernel)",
   "language": "python",
   "name": "python3"
  },
  "language_info": {
   "codemirror_mode": {
    "name": "ipython",
    "version": 3
   },
   "file_extension": ".py",
   "mimetype": "text/x-python",
   "name": "python",
   "nbconvert_exporter": "python",
   "pygments_lexer": "ipython3",
   "version": "3.10.12"
  }
 },
 "nbformat": 4,
 "nbformat_minor": 5
}
