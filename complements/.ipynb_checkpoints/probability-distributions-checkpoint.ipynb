{
 "cells": [
  {
   "cell_type": "markdown",
   "id": "893e877a-c814-4c76-aa82-6b848b9e7e21",
   "metadata": {},
   "source": [
    "<h1 style='font-size:40px'> \n",
    "        Probability Distributions\n",
    "</h1>\n",
    "<div> \n",
    "    <ul style='font-size:20px'> \n",
    "        <li>\n",
    "            Arquivo em que discutimos distribuições probabilísticas que baseiam algumas técnicas de Reinforcement Learning.\n",
    "        </li>\n",
    "    </ul>\n",
    " </div>"
   ]
  },
  {
   "cell_type": "markdown",
   "id": "499307b9-f360-4f44-b08b-3ce85c0f220e",
   "metadata": {},
   "source": [
    "<h2 style='font-size:30px'> \n",
    "    <a href='https://www.statlect.com/probability-distributions/gamma-distribution'>Gamma Distribution</a>\n",
    "</h2>\n",
    "<div> \n",
    "    <ul style='font-size:20px'> \n",
    "        <li>\n",
    "            A Distribuição Gamma se baseia na $\\chi^2$.\n",
    "        </li>\n",
    "        <li>\n",
    "            Considere $Z_1,\\ldots,Z_n$ como variáveis normais padrão. Sendo assim, podemos definir uma distribuição chi-quadrado com n-graus de liberdade $\\displaystyle \\chi_{n}^{2}=\\sum_{i=1}^{n}{Z_{i}^{2}}$.\n",
    "        </li>\n",
    "        <li>\n",
    "            Seja $h\\in{\\mathbb{R}^{+}}$, podemos definir uma Distribuição Gamma como: \n",
    "        </li>\n",
    "    </ul>\n",
    " </div>"
   ]
  },
  {
   "cell_type": "markdown",
   "id": "c95aa506-984d-4b0b-8cb7-9258158c9251",
   "metadata": {},
   "source": [
    "<figure>\n",
    "        <center style='font-size:20px;margin-top:20px'>\n",
    "            $\\displaystyle X=\\frac{h}{n}\\chi_{n}^{2}=h\\left[\\frac{1}{n}\\sum_{i=1}^{n}{Z_{i}^{2}}\\right]$\n",
    "        </center>\n",
    "    </figure>"
   ]
  },
  {
   "cell_type": "markdown",
   "id": "24348f94-7cb5-4baf-be77-b54a5a4e95f4",
   "metadata": {},
   "source": [
    "<h3 style='font-size:30px;font-style:italic'> Definição</h3>\n",
    "<div> \n",
    "    <ul style='font-size:20px'> \n",
    "        <li>\n",
    "            Seja $X,n,h\\in\\mathbb{R}^{+}$, dizemos que $X$ possui uma Distribuição Gamma de parâmetros $n,h$ com PDF:\n",
    "        </li>\n",
    "    </ul>\n",
    "</div>"
   ]
  },
  {
   "cell_type": "markdown",
   "id": "f451bb86-399e-454b-9917-4b1d69f86d32",
   "metadata": {},
   "source": [
    "<figure>\n",
    "        <center style='font-size:20px;margin-top:20px'>\n",
    "            $\\displaystyle f_{X}{(x)}=cx^{\\left(\\frac{n}{2}-1\\right)}e^{\\left(-\\frac{n}{h}\\frac{1}{2}x\\right)}\\text{, }c=\\frac{\\left(\\frac{n}{h}\\right)^{\\frac{n}{2}}}{2^{\\frac{n}{2}}\\Gamma{(\\frac{n}{2})}}$\n",
    "        </center>\n",
    "    </figure>"
   ]
  },
  {
   "cell_type": "markdown",
   "id": "1c197f61-d5ca-4983-82b6-4031c5cf4338",
   "metadata": {},
   "source": [
    "<h3 style='font-size:30px;font-style:italic'> \n",
    "    <a href='https://www.statlect.com/mathematical-tools/gamma-function'>\n",
    "        Gamma Function\n",
    "    </a>\n",
    "</h3>\n",
    "<div> \n",
    "    <ul style='font-size:20px'> \n",
    "        <li>\n",
    "            A função Gamma consiste em uma generalização da função fatorial para o domínio $\\mathbb{R}^{+}$.\n",
    "        </li>\n",
    "        <li>\n",
    "            É bastante utilizada em Estatística, como na Distribuição Gamma.\n",
    "        </li>\n",
    "    </ul>\n",
    "</div>"
   ]
  },
  {
   "cell_type": "markdown",
   "id": "0421cf24-b2e5-4c47-8c06-db5aa3ba03f3",
   "metadata": {},
   "source": [
    "<figure>\n",
    "        <center style='font-size:20px;margin-top:20px'>\n",
    "            $\\displaystyle \\Gamma{(z)}=\\Gamma{(z-1)}(z-1)\\text{, }z\\in\\mathbb{R}^{+}$\n",
    "        </center>\n",
    "    </figure>"
   ]
  },
  {
   "cell_type": "markdown",
   "id": "7feaafe3-28af-49f2-80eb-f1b7fadd8ff7",
   "metadata": {
    "tags": []
   },
   "source": [
    "<h4 style='font-size:30px;font-style:italic;text-decoration:underline'> Prova</h4>\n",
    "<div> \n",
    "    <ul style='font-size:20px'> \n",
    "        <li> \n",
    "              Seja a Função Gamma formalmente definida como $\\displaystyle \\int_{0}^{\\infty}{x^{(z-1)}e^{-x}dx}$, podemos obter a sua forma recursiva com Integração por Partes:\n",
    "        </li>\n",
    "    </ul>\n",
    "</div>"
   ]
  },
  {
   "cell_type": "markdown",
   "id": "1fda3f92-9dba-493e-9e18-1f8a1c9ed746",
   "metadata": {},
   "source": [
    "<figure>\n",
    "        <center style='font-size:20px;margin-top:20px'>\n",
    "            $$\n",
    "\\begin{align*}%\\label{}\\displaystyle\n",
    "T(z)&=\\int_{0}^{\\infty}{x^{(z-1)}e^{-x}dx}\\\\\n",
    "    &=\\left[-x^{(z-1)}e^{-x}\\right]_{0}^{\\infty}+\\int_{0}^{\\infty}{(z-1)x^{(z-2)}e^{-x}dx} \\\\\n",
    "    &=(0-0)+(z-1)\\int_{0}^{\\infty}{x^{(z-1)-1}e^{-x}dx} \\\\\n",
    "    &=(z-1)\\Gamma{(z-1)}\n",
    "\\end{align*}\n",
    "            $$\n",
    "        </center>\n",
    "    </figure>"
   ]
  },
  {
   "cell_type": "markdown",
   "id": "8599b852-1642-485c-8770-a455284e14d0",
   "metadata": {
    "tags": []
   },
   "source": [
    "<h4 style='font-size:30px;font-style:italic;text-decoration:underline'> Propriedade</h4>\n",
    "<div> \n",
    "    <ul style='font-size:20px'> \n",
    "        <li> \n",
    "            Ao multiplicarmos uma distribuição Gamma $X$ por $c, c\\in \\mathbb{R}^{+}$, obtemos uma outra distribuição Gamma $Y$.\n",
    "        </li>\n",
    "    </ul>\n",
    "</div>"
   ]
  },
  {
   "cell_type": "markdown",
   "id": "256f0959-bf49-4ad3-91d4-e75ca5a3ff3a",
   "metadata": {},
   "source": [
    "<figure>\n",
    "        <center style='font-size:20px;margin-top:20px'>\n",
    "            $\\displaystyle Y=cX=c\\left(\\frac{h}{n}\\chi_{n}^{2}\\right)=\\frac{ch}{n}\\chi_{n}^{2}$\n",
    "        </center>\n",
    "    </figure>"
   ]
  },
  {
   "cell_type": "markdown",
   "id": "b6633523-4023-4271-844b-01ba3ba6c105",
   "metadata": {},
   "source": [
    "<h2 style='font-size:30px'> \n",
    "    <a href='https://www.statlect.com/probability-distributions/beta-distribution'>Beta Distribution</a>\n",
    "</h2>\n",
    "<div> \n",
    "    <ul style='font-size:20px'> \n",
    "        <li>\n",
    "            A Distribuição Beta consiste em uma distribuição de probabilidade contínua usada para modelar a incerteza de sucesso de um experimento.\n",
    "        </li>\n",
    "    </ul>\n",
    " </div>"
   ]
  },
  {
   "cell_type": "code",
   "execution_count": 2,
   "id": "a5359b0b-a021-4901-8be2-d1b3726a9f2c",
   "metadata": {},
   "outputs": [
    {
     "name": "stdout",
     "output_type": "stream",
     "text": [
      "[master 28244fb] Pesquisar sobre Beta Distribution\n",
      " 2 files changed, 78 insertions(+), 12 deletions(-)\n",
      "Enumerating objects: 9, done.\n",
      "Counting objects: 100% (9/9), done.\n",
      "Delta compression using up to 24 threads\n",
      "Compressing objects: 100% (5/5), done.\n",
      "Writing objects: 100% (5/5), 836 bytes | 836.00 KiB/s, done.\n",
      "Total 5 (delta 4), reused 0 (delta 0), pack-reused 0\n",
      "remote: Resolving deltas: 100% (4/4), completed with 4 local objects.\u001b[K\n",
      "To https://github.com/felipesveiga/reinforcement-learning.git\n",
      "   5f7a8d5..28244fb  master -> master\n"
     ]
    }
   ],
   "source": [
    "! git add .\n",
    "! git commit -m 'Continuar Beta Distribution'\n",
    "! git push"
   ]
  },
  {
   "cell_type": "markdown",
   "id": "4e9fa79e-e0d4-46a2-8bb2-c8d2d5e95cf3",
   "metadata": {
    "editable": true,
    "slideshow": {
     "slide_type": ""
    },
    "tags": []
   },
   "source": [
    "<p style='color:red'> Terminei artigo Gamma Function e Gamma Distribution; Iniciei Beta Distribution; Continuar Beta Distribution</p>"
   ]
  },
  {
   "cell_type": "markdown",
   "id": "5eee0d3f-510d-406a-8e0a-a61cdb25ca91",
   "metadata": {
    "editable": true,
    "slideshow": {
     "slide_type": ""
    },
    "tags": []
   },
   "source": [
    "<p style='color:red'> Para entender Thompson Sampling, preciso aprender: gamma distribution/function; beta distribution, Conjugacy of distributions</p>"
   ]
  }
 ],
 "metadata": {
  "kernelspec": {
   "display_name": "Python 3 (ipykernel)",
   "language": "python",
   "name": "python3"
  },
  "language_info": {
   "codemirror_mode": {
    "name": "ipython",
    "version": 3
   },
   "file_extension": ".py",
   "mimetype": "text/x-python",
   "name": "python",
   "nbconvert_exporter": "python",
   "pygments_lexer": "ipython3",
   "version": "3.10.12"
  }
 },
 "nbformat": 4,
 "nbformat_minor": 5
}
