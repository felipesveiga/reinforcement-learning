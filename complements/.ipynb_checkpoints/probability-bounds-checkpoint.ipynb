{
 "cells": [
  {
   "cell_type": "markdown",
   "id": "36be171e-14f6-4760-8035-92cf439aac8f",
   "metadata": {},
   "source": [
    "<h1 style='font-size:40px'> \n",
    "    <a href='https://web.stanford.edu/class/archive/cs/cs109/cs109.1218/files/student_drive/6.1.pdf'>\n",
    "        Probability Bounds\n",
    "    </a></h1>\n",
    "<div> \n",
    "    <ul style='font-size:20px'> \n",
    "        <li>\n",
    "            Fronteiras de probabilidade são metodologias que nos retornam a probabilidade de uma variável aleatória se encontrar a uma certa distância de sua média.\n",
    "        </li>\n",
    "        <li>\n",
    "            Nós as utilizamos quando não conhecemos a real PDF/PMF da sua distribuição, tendo apenas algumas estatísticas em mãos ($\\mu$, $\\sigma^{2}$).\n",
    "        </li>\n",
    "    </ul>\n",
    " </div>"
   ]
  },
  {
   "cell_type": "markdown",
   "id": "b5e41f52-23f5-4842-954f-47fbb5a12102",
   "metadata": {},
   "source": [
    "<h2 style='font-size:30px'> Markov Inequality</h2>\n",
    "<div> \n",
    "    <ul style='font-size:20px'> \n",
    "        <li>\n",
    "            A Desigualdade de Markov é aplicável a qualquer distribuição de uma variável $X$ não-negativa ($X \\in \\mathbb{R^{+}}$).\n",
    "        </li>\n",
    "        <li>\n",
    "            Ela postula que:\n",
    "        </li>\n",
    "    </ul>\n",
    " </div>"
   ]
  },
  {
   "cell_type": "markdown",
   "id": "88c5788a-92f6-43f4-b041-adc21064e442",
   "metadata": {},
   "source": [
    "<figure>\n",
    "        <center style='font-size:20px;margin-top:20px'>\n",
    "            $P(X\\geq{k})\\leq{\\frac{E[X]}{k}}\\text{, }k>0$\n",
    "        </center>\n",
    "    </figure>"
   ]
  },
  {
   "cell_type": "markdown",
   "id": "73867a1e-b027-4f4c-93b4-ef05a8752821",
   "metadata": {},
   "source": [
    "<h3 style='font-size:30px;font-style:italic'> Prova da Desigualdade de Markov</h3>"
   ]
  },
  {
   "cell_type": "markdown",
   "id": "7f88bfc9-165c-4948-8b04-cfaf9498b81b",
   "metadata": {},
   "source": [
    "<figure>\n",
    "        <center style='margin-top:20px'>\n",
    "            <img src='img/markov_ineq_proof.png'>\n",
    "                <figcaption>  </figcaption>\n",
    "        </center>\n",
    "    </figure>"
   ]
  },
  {
   "cell_type": "markdown",
   "id": "19d55c03-d119-40d9-b6b4-1431bffe4811",
   "metadata": {},
   "source": [
    "<figure>\n",
    "        <center style='font-size:20px;margin-top:20px'>\n",
    "            $\\frac{E[X]}{k}\\geq{P(X\\geq{k})}\\iff{P(X\\geq{k})\\leq{\\frac{E[X]}{k}}}$\n",
    "        </center>\n",
    "    </figure>"
   ]
  },
  {
   "cell_type": "markdown",
   "id": "a7b37051-5408-4bf6-9c75-c9a3c6f82bf4",
   "metadata": {},
   "source": [
    "<h3 style='font-size:30px;font-style:italic'> Limitações da Desigualdade de Markov</h3>\n",
    "<div> \n",
    "    <ul style='font-size:20px'> \n",
    "        <li>\n",
    "            Devido à sua simplicidade, a Desigualdade de Markov pode estimar fronteiras largas demais. Isso pode ser constatado com o seguinte exemplo:\n",
    "        </li>\n",
    "    </ul>\n",
    " </div>"
   ]
  },
  {
   "cell_type": "markdown",
   "id": "3017ff21-f189-4c4f-8eee-f460f3a20cb2",
   "metadata": {},
   "source": [
    "<center style='font-size:20px;margin-top:20px'>\n",
    "    <i> \n",
    "        Dada uma moeda enviesada cuja probabilidade de retornar cara seja de 20%, qual a probabilidade máxima de, em 20 lançamentos, obtermos 16 caras?\n",
    "    </i>\n",
    "</center>"
   ]
  },
  {
   "cell_type": "code",
   "execution_count": 4,
   "id": "c8dd42d9-a740-4612-8bb9-155e2dc98bc6",
   "metadata": {},
   "outputs": [
    {
     "data": {
      "text/plain": [
       "0.25"
      ]
     },
     "execution_count": 4,
     "metadata": {},
     "output_type": "execute_result"
    }
   ],
   "source": [
    "# Como se trata de uma distribuição Binomial, podemos medir E[X] da seguinte forma.\n",
    "E = 20*.2\n",
    "k = 16\n",
    "\n",
    "# Com isso, a Desigualdade de Markov afirma que a probabilidade máxima é de:\n",
    "E/k"
   ]
  },
  {
   "cell_type": "code",
   "execution_count": 22,
   "id": "78c0afcf-6337-4821-b10d-0b85141a18c5",
   "metadata": {},
   "outputs": [
    {
     "data": {
      "text/plain": [
       "1.3803464926631648e-08"
      ]
     },
     "execution_count": 22,
     "metadata": {},
     "output_type": "execute_result"
    }
   ],
   "source": [
    "# Mas, observe, a probabilidade real é muito menor.\n",
    "from scipy.stats import binom\n",
    "\n",
    "1-binom.cdf(n=20, p=.2, k=15)"
   ]
  },
  {
   "cell_type": "markdown",
   "id": "75d4d06f-af39-4f6f-acea-b21a92db7aa2",
   "metadata": {},
   "source": [
    "<h2 style='font-size:30px'> Chebyshev’s Inequality</h2>\n",
    "<div> \n",
    "    <ul style='font-size:20px'> \n",
    "        <li>\n",
    "            A Desigualdade de Chebyshev tende a ser mais poderosa do que a de Markov. Ela se aplica a variáveis negativas e não-negativas!\n",
    "        </li>\n",
    "        <li>\n",
    "            Essa metodologia requer que tenhamos $\\mu$ e $\\sigma$ em mãos.\n",
    "        </li>\n",
    "        <li>\n",
    "            Abaixo, segue a sua definição:\n",
    "        </li>\n",
    "    </ul>\n",
    " </div>"
   ]
  },
  {
   "cell_type": "markdown",
   "id": "a09d951f-c458-4fdf-970a-565a60ba1490",
   "metadata": {},
   "source": [
    "<figure>\n",
    "        <center style='font-size:20px;margin-top:20px'>\n",
    "            $P(|X-\\mu|\\geq{\\alpha})\\leq \\frac{\\sigma^{2}}{\\alpha^{2}}$\n",
    "        </center>\n",
    "    </figure>"
   ]
  },
  {
   "cell_type": "markdown",
   "id": "fc1dc289-4249-4063-8570-30a5158396c1",
   "metadata": {},
   "source": [
    "<figure>\n",
    "        <center style='font-size:20px;margin-top:20px'>\n",
    "            ou, $P(|X-\\mu|\\geq{k\\sigma})\\leq \\frac{1}{k^{2}}\\text{, }\\alpha=k\\sigma$\n",
    "        </center>\n",
    "    </figure>"
   ]
  },
  {
   "cell_type": "markdown",
   "id": "2d3343fc-e906-44ed-b9b7-011a045c06f3",
   "metadata": {},
   "source": [
    "<h3 style='font-size:30px;font-style:italic'> Prova da Desigualdade de Chebyshev</h3>"
   ]
  },
  {
   "cell_type": "markdown",
   "id": "76f6fbe0-17da-4d35-8eff-4ec035eebc44",
   "metadata": {},
   "source": [
    "<figure>\n",
    "        <center style='margin-top:20px'>\n",
    "            <img src='img/chebyshev_ineq_proof.png'>\n",
    "                <figcaption>  \n",
    "                    Como podemos observar, a Desigualdade de Chebyshev se baseia na de Markov.\n",
    "                </figcaption>\n",
    "        </center>\n",
    "    </figure>"
   ]
  },
  {
   "cell_type": "markdown",
   "id": "dd67d0c9-2c85-4941-b37a-81962cc9e98d",
   "metadata": {},
   "source": [
    "<div> \n",
    "    <ul style='font-size:20px'> \n",
    "        <li>\n",
    "            Repare que, como usa o módulo da distância, a Desigualdade de Chebyshev nos retorna uma probabilidade máxima de a variável estar contida num <strong>intervalo</strong>.\n",
    "        </li>\n",
    "        <li>\n",
    "            Observe: a variância de $X$ pode ser entendida como $E[(X-E[X])^{2}]$.\n",
    "        </li>\n",
    "    </ul>\n",
    " </div>"
   ]
  },
  {
   "cell_type": "markdown",
   "id": "baf79085-d589-429d-aa93-5f1bbdb93ac7",
   "metadata": {},
   "source": [
    "<figure>\n",
    "        <center style='font-size:20px;margin-top:20px'>\n",
    "            $E(X)=\\int_{-\\infty}^{\\infty}{xf(x)dx}$\n",
    "        </center>\n",
    "    </figure>"
   ]
  },
  {
   "cell_type": "markdown",
   "id": "9982d433-1159-48e8-bd96-d60220876754",
   "metadata": {},
   "source": [
    "<figure>\n",
    "        <center style='font-size:20px;margin-top:20px'>\n",
    "            $E[(X-E[X])^{2}]=\\int_{-\\infty}^{\\infty}{(x-E[X])^{2}f(x)dx}$\n",
    "        </center>\n",
    "    </figure>"
   ]
  },
  {
   "cell_type": "markdown",
   "id": "674ff240-b28c-4911-99de-9a005d810044",
   "metadata": {},
   "source": [
    "<div> \n",
    "    <ul style='font-size:20px'> \n",
    "        <li>\n",
    "            Vamos resolver o problema do lançamento de moedas com a Desigualdade de Chebyshev.\n",
    "        </li>\n",
    "    </ul>\n",
    " </div>"
   ]
  },
  {
   "cell_type": "code",
   "execution_count": 27,
   "id": "55206f2c-cfce-48cb-82e3-e4bbd9c5ce34",
   "metadata": {},
   "outputs": [
    {
     "data": {
      "text/plain": [
       "0.022222222222222223"
      ]
     },
     "execution_count": 27,
     "metadata": {},
     "output_type": "execute_result"
    }
   ],
   "source": [
    "# Como Chebyshev trabalha com intervalos, deveremos adaptar os cálculos\n",
    "# que iremos realizar.\n",
    "\n",
    "# P(X>=16) <= [P(X>=16 U X<= -8) = P(\\X-4\\>=12)]\n",
    "var = 20*.2*(1-.2)\n",
    "var/(12**2)"
   ]
  },
  {
   "cell_type": "code",
   "execution_count": 25,
   "id": "40a9d773-1c4e-401e-858d-c0a896d86548",
   "metadata": {
    "editable": true,
    "slideshow": {
     "slide_type": ""
    },
    "tags": []
   },
   "outputs": [
    {
     "name": "stdout",
     "output_type": "stream",
     "text": [
      "[master 2fb4c6a] Continuar de \"While in principle Chebyshev’s inequality asks about (...)\"\n",
      " 3 files changed, 138 insertions(+), 16 deletions(-)\n",
      " create mode 100644 complements/img/chebyshev_ineq_proof.png\n",
      "Enumerating objects: 12, done.\n",
      "Counting objects: 100% (12/12), done.\n",
      "Delta compression using up to 24 threads\n",
      "Compressing objects: 100% (7/7), done.\n",
      "Writing objects: 100% (7/7), 21.91 KiB | 21.91 MiB/s, done.\n",
      "Total 7 (delta 2), reused 0 (delta 0), pack-reused 0\n",
      "remote: Resolving deltas: 100% (2/2), completed with 2 local objects.\u001b[K\n",
      "To https://github.com/felipesveiga/reinforcement-learning.git\n",
      "   b5dabbd..2fb4c6a  master -> master\n"
     ]
    }
   ],
   "source": [
    "! git add ..\n",
    "! git commit -m 'Continuar de \"Proof of the Weak Law of Large Numbers\"'\n",
    "! git push"
   ]
  },
  {
   "cell_type": "markdown",
   "id": "233df191-cf6b-40e9-8271-aaeeb41aa05f",
   "metadata": {
    "editable": true,
    "slideshow": {
     "slide_type": ""
    },
    "tags": []
   },
   "source": [
    "<p style='color:red'> Terminei \"Chebyshev’s Inequality\"; Continuar de \"Proof of the Weak Law of Large Numbers\"</p>"
   ]
  }
 ],
 "metadata": {
  "kernelspec": {
   "display_name": "Python 3 (ipykernel)",
   "language": "python",
   "name": "python3"
  },
  "language_info": {
   "codemirror_mode": {
    "name": "ipython",
    "version": 3
   },
   "file_extension": ".py",
   "mimetype": "text/x-python",
   "name": "python",
   "nbconvert_exporter": "python",
   "pygments_lexer": "ipython3",
   "version": "3.10.12"
  }
 },
 "nbformat": 4,
 "nbformat_minor": 5
}
