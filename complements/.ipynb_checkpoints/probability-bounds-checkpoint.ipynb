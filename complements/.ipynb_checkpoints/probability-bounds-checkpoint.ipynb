{
 "cells": [
  {
   "cell_type": "markdown",
   "id": "36be171e-14f6-4760-8035-92cf439aac8f",
   "metadata": {},
   "source": [
    "<h1 style='font-size:40px'> \n",
    "    <a href='https://web.stanford.edu/class/archive/cs/cs109/cs109.1218/files/student_drive/6.1.pdf'>\n",
    "        Probability Bounds\n",
    "    </a></h1>\n",
    "<div> \n",
    "    <ul style='font-size:20px'> \n",
    "        <li>\n",
    "            Fronteiras de probabilidade são metodologias que nos retornam a probabilidade de uma variável aleatória se encontrar a uma certa distância de sua média.\n",
    "        </li>\n",
    "        <li>\n",
    "            Nós as utilizamos quando não conhecemos a real PDF/PMF da sua distribuição, tendo apenas algumas estatísticas em mãos ($\\mu$, $\\sigma^{2}$).\n",
    "        </li>\n",
    "    </ul>\n",
    " </div>"
   ]
  },
  {
   "cell_type": "markdown",
   "id": "b5e41f52-23f5-4842-954f-47fbb5a12102",
   "metadata": {},
   "source": [
    "<h2 style='font-size:30px'> Markov Inequality</h2>\n",
    "<div> \n",
    "    <ul style='font-size:20px'> \n",
    "        <li>\n",
    "            A Desigualdade de Markov é aplicável a qualquer distribuição de uma variável $X$ não-negativa ($X \\in \\mathbb{R^{+}}$).\n",
    "        </li>\n",
    "        <li>\n",
    "            Ela postula que:\n",
    "        </li>\n",
    "    </ul>\n",
    " </div>"
   ]
  },
  {
   "cell_type": "markdown",
   "id": "88c5788a-92f6-43f4-b041-adc21064e442",
   "metadata": {},
   "source": [
    "<figure>\n",
    "        <center style='font-size:20px;margin-top:20px'>\n",
    "            $P(X\\geq{k})\\leq{\\frac{E[X]}{k}}\\text{, }k>0$\n",
    "        </center>\n",
    "    </figure>"
   ]
  },
  {
   "cell_type": "markdown",
   "id": "73867a1e-b027-4f4c-93b4-ef05a8752821",
   "metadata": {},
   "source": [
    "<h3 style='font-size:30px;font-style:italic'> Prova da Desigualdade de Markov</h3>"
   ]
  },
  {
   "cell_type": "markdown",
   "id": "7f88bfc9-165c-4948-8b04-cfaf9498b81b",
   "metadata": {},
   "source": [
    "<figure>\n",
    "        <center style='margin-top:20px'>\n",
    "            <img src='img/markov_ineq_proof.png'>\n",
    "                <figcaption>  </figcaption>\n",
    "        </center>\n",
    "    </figure>"
   ]
  },
  {
   "cell_type": "markdown",
   "id": "19d55c03-d119-40d9-b6b4-1431bffe4811",
   "metadata": {},
   "source": [
    "<figure>\n",
    "        <center style='font-size:20px;margin-top:20px'>\n",
    "            $\\frac{E[X]}{k}\\geq{P(X\\geq{k})}\\iff{P(X\\geq{k})\\leq{\\frac{E[X]}{k}}}$\n",
    "        </center>\n",
    "    </figure>"
   ]
  },
  {
   "cell_type": "markdown",
   "id": "a7b37051-5408-4bf6-9c75-c9a3c6f82bf4",
   "metadata": {},
   "source": [
    "<h3 style='font-size:30px;font-style:italic'> Limitações da Desigualdade de Markov</h3>\n",
    "<div> \n",
    "    <ul style='font-size:20px'> \n",
    "        <li>\n",
    "            Devido à sua simplicidade, a Desigualdade de Markov pode estimar fronteiras largas demais. Isso pode ser constatado com o seguinte exemplo:\n",
    "        </li>\n",
    "    </ul>\n",
    " </div>"
   ]
  },
  {
   "cell_type": "markdown",
   "id": "3017ff21-f189-4c4f-8eee-f460f3a20cb2",
   "metadata": {},
   "source": [
    "<center style='font-size:20px;margin-top:20px'>\n",
    "    <i> \n",
    "        Dada uma moeda enviesada cuja probabilidade de retornar cara seja de 20%, qual a probabilidade máxima de, em 20 lançamentos, obtermos 16 caras?\n",
    "    </i>\n",
    "</center>"
   ]
  },
  {
   "cell_type": "code",
   "execution_count": 4,
   "id": "c8dd42d9-a740-4612-8bb9-155e2dc98bc6",
   "metadata": {},
   "outputs": [
    {
     "data": {
      "text/plain": [
       "0.25"
      ]
     },
     "execution_count": 4,
     "metadata": {},
     "output_type": "execute_result"
    }
   ],
   "source": [
    "# Como se trata de uma distribuição Binomial, podemos medir E[X] da seguinte forma.\n",
    "E = 20*.2\n",
    "k = 16\n",
    "\n",
    "# Com isso, a Desigualdade de Markov afirma que a probabilidade máxima é de:\n",
    "E/k"
   ]
  },
  {
   "cell_type": "code",
   "execution_count": 22,
   "id": "78c0afcf-6337-4821-b10d-0b85141a18c5",
   "metadata": {},
   "outputs": [
    {
     "data": {
      "text/plain": [
       "1.3803464926631648e-08"
      ]
     },
     "execution_count": 22,
     "metadata": {},
     "output_type": "execute_result"
    }
   ],
   "source": [
    "# Mas, observe, a probabilidade real é muito menor.\n",
    "from scipy.stats import binom\n",
    "\n",
    "1-binom.cdf(n=20, p=.2, k=15)"
   ]
  },
  {
   "cell_type": "markdown",
   "id": "75d4d06f-af39-4f6f-acea-b21a92db7aa2",
   "metadata": {},
   "source": [
    "<h2 style='font-size:30px'> Chebyshev’s Inequality</h2>\n",
    "<div> \n",
    "    <ul style='font-size:20px'> \n",
    "        <li>\n",
    "            A Desigualdade de Chebyshev tende a ser mais poderosa do que a de Markov. Ela se aplica a variáveis negativas e não-negativas!\n",
    "        </li>\n",
    "        <li>\n",
    "            Essa metodologia requer que tenhamos $\\mu$ e $\\sigma$ em mãos.\n",
    "        </li>\n",
    "        <li>\n",
    "            Abaixo, segue a sua definição:\n",
    "        </li>\n",
    "    </ul>\n",
    " </div>"
   ]
  },
  {
   "cell_type": "markdown",
   "id": "a09d951f-c458-4fdf-970a-565a60ba1490",
   "metadata": {},
   "source": [
    "<figure>\n",
    "        <center style='font-size:20px;margin-top:20px'>\n",
    "            $P(|X-\\mu|\\geq{\\alpha})\\leq \\frac{\\sigma^{2}}{\\alpha^{2}}$\n",
    "        </center>\n",
    "    </figure>"
   ]
  },
  {
   "cell_type": "markdown",
   "id": "fc1dc289-4249-4063-8570-30a5158396c1",
   "metadata": {},
   "source": [
    "<figure>\n",
    "        <center style='font-size:20px;margin-top:20px'>\n",
    "            ou, $P(|X-\\mu|\\geq{k\\sigma})\\leq \\frac{1}{k^{2}}\\text{, }\\alpha=k\\sigma$\n",
    "        </center>\n",
    "    </figure>"
   ]
  },
  {
   "cell_type": "markdown",
   "id": "2d3343fc-e906-44ed-b9b7-011a045c06f3",
   "metadata": {},
   "source": [
    "<h3 style='font-size:30px;font-style:italic'> Prova da Desigualdade de Chebyshev</h3>"
   ]
  },
  {
   "cell_type": "markdown",
   "id": "76f6fbe0-17da-4d35-8eff-4ec035eebc44",
   "metadata": {},
   "source": [
    "<figure>\n",
    "        <center style='margin-top:20px'>\n",
    "            <img src='img/chebyshev_ineq_proof.png'>\n",
    "                <figcaption>  \n",
    "                    Como podemos observar, a Desigualdade de Chebyshev se baseia na de Markov.\n",
    "                </figcaption>\n",
    "        </center>\n",
    "    </figure>"
   ]
  },
  {
   "cell_type": "markdown",
   "id": "dd67d0c9-2c85-4941-b37a-81962cc9e98d",
   "metadata": {},
   "source": [
    "<div> \n",
    "    <ul style='font-size:20px'> \n",
    "        <li>\n",
    "            Repare que, como usa o módulo da distância, a Desigualdade de Chebyshev nos retorna uma probabilidade máxima de a variável estar contida num <strong>intervalo</strong>.\n",
    "        </li>\n",
    "        <li>\n",
    "            Observe: a variância de $X$ pode ser entendida como $E[(X-E[X])^{2}]$.\n",
    "        </li>\n",
    "    </ul>\n",
    " </div>"
   ]
  },
  {
   "cell_type": "markdown",
   "id": "baf79085-d589-429d-aa93-5f1bbdb93ac7",
   "metadata": {},
   "source": [
    "<figure>\n",
    "        <center style='font-size:20px;margin-top:20px'>\n",
    "            $E(X)=\\int_{-\\infty}^{\\infty}{xf(x)dx}$\n",
    "        </center>\n",
    "    </figure>"
   ]
  },
  {
   "cell_type": "markdown",
   "id": "9982d433-1159-48e8-bd96-d60220876754",
   "metadata": {},
   "source": [
    "<figure>\n",
    "        <center style='font-size:20px;margin-top:20px'>\n",
    "            $E[(X-E[X])^{2}]=\\int_{-\\infty}^{\\infty}{(x-E[X])^{2}f(x)dx}$\n",
    "        </center>\n",
    "    </figure>"
   ]
  },
  {
   "cell_type": "markdown",
   "id": "674ff240-b28c-4911-99de-9a005d810044",
   "metadata": {},
   "source": [
    "<div> \n",
    "    <ul style='font-size:20px'> \n",
    "        <li>\n",
    "            Vamos resolver o problema do lançamento de moedas com a Desigualdade de Chebyshev.\n",
    "        </li>\n",
    "    </ul>\n",
    " </div>"
   ]
  },
  {
   "cell_type": "code",
   "execution_count": 27,
   "id": "55206f2c-cfce-48cb-82e3-e4bbd9c5ce34",
   "metadata": {},
   "outputs": [
    {
     "data": {
      "text/plain": [
       "0.022222222222222223"
      ]
     },
     "execution_count": 27,
     "metadata": {},
     "output_type": "execute_result"
    }
   ],
   "source": [
    "# Como Chebyshev trabalha com intervalos, deveremos adaptar os cálculos\n",
    "# que iremos realizar.\n",
    "\n",
    "# P(X>=16) <= [P(X>=16 U X<= -8) = P(\\X-4\\>=12)]\n",
    "var = 20*.2*(1-.2)\n",
    "var/(12**2)"
   ]
  },
  {
   "cell_type": "markdown",
   "id": "a09dead0-2c50-4647-b37e-6e3cbe3b9bbd",
   "metadata": {},
   "source": [
    "<h3 style='font-size:30px;font-style:italic'>  Proof of the Weak Law of Large Numbers</h3>\n",
    "<div> \n",
    "    <ul style='font-size:20px'> \n",
    "        <li>\n",
    "            A Lei Fraca dos Grandes Números estipula que a média de uma amostragem $\\overline{X}$ de infinitos indivíduos convergirá para $\\mu$.\n",
    "        </li>\n",
    "    </ul>\n",
    " </div>"
   ]
  },
  {
   "cell_type": "markdown",
   "id": "4ee31c26-cd76-4280-b3ec-9ea94333a5db",
   "metadata": {
    "editable": true,
    "slideshow": {
     "slide_type": ""
    },
    "tags": []
   },
   "source": [
    "<figure>\n",
    "        <center style='font-size:20px;margin-top:20px'>\n",
    "            $\\displaystyle \\lim_{n\\to{\\infty}}{P(|\\overline{X}_n-\\mu|>\\epsilon)}=0\\text{, }\\epsilon \\in \\mathbb{R^{+}}$\n",
    "        </center>\n",
    "    </figure>"
   ]
  },
  {
   "cell_type": "markdown",
   "id": "335510c8-2618-4ef5-8c57-f7f5e501f9e3",
   "metadata": {},
   "source": [
    "<div> \n",
    "    <ul style='font-size:20px'> \n",
    "        <li>\n",
    "            A Prova dessa lei pode ser realizada com a Desigualdade de Chebyshev.\n",
    "        </li>\n",
    "    </ul>\n",
    " </div>"
   ]
  },
  {
   "cell_type": "markdown",
   "id": "835905f6-4d5e-437e-8034-906e86d4f9b4",
   "metadata": {
    "editable": true,
    "slideshow": {
     "slide_type": ""
    },
    "tags": []
   },
   "source": [
    "<figure>\n",
    "        <center style='font-size:20px;margin-top:20px'>\n",
    "            $\\displaystyle \\lim_{n\\to{\\infty}}{P(|\\overline{X}_n-\\mu|>\\epsilon)}\\leq{\\lim_{n\\to{\\infty}}\\frac{Var({\\overline{X}_n})}{\\epsilon^2}}=\\lim_{n\\to\\infty}{\\frac{\\sigma^2}{n\\epsilon^2}}=0$\n",
    "        </center>\n",
    "    </figure>"
   ]
  },
  {
   "cell_type": "markdown",
   "id": "6a6a0392-1e84-45e8-8c86-e4e658708c3e",
   "metadata": {
    "jp-MarkdownHeadingCollapsed": true
   },
   "source": [
    "<h2 style='font-size:30px'> \n",
    "    <a href='https://probabilitycourse.com/chapter6/6_2_3_chernoff_bounds.php'>Chernoff Bounds</a>\n",
    "</h2>\n",
    "<div> \n",
    "    <ul style='font-size:20px'> \n",
    "        <li>\n",
    "            As Fronteiras de Chernoff se baseiam na seguinte postulação, tendo $a\\in\\mathbb{R}$ [1]:\n",
    "        </li>\n",
    "    </ul>\n",
    " </div>"
   ]
  },
  {
   "cell_type": "markdown",
   "id": "307b3859-5aa2-4140-8771-9712a03ff2e2",
   "metadata": {
    "editable": true,
    "slideshow": {
     "slide_type": ""
    },
    "tags": []
   },
   "source": [
    "<figure>\n",
    "        <center style='font-size:20px;margin-top:20px'>\n",
    "            $\\begin{align}%\\label{}\n",
    "  P(X \\geq a)= P(e^{sX} \\geq e^{sa}),  &\\qquad \\textrm{ for } s>0, \\\\\n",
    "  P(X \\leq a)= P(e^{sX} \\geq e^{sa}),  &\\qquad \\textrm{ for } s<0.\n",
    "\\end{align}$\n",
    "        </center>\n",
    "    </figure>"
   ]
  },
  {
   "cell_type": "markdown",
   "id": "2ad6cdfb-df00-4b1d-8a63-2825842d36d4",
   "metadata": {},
   "source": [
    "<div> \n",
    "    <ul style='font-size:20px'> \n",
    "        <li>\n",
    "            Como $e^{sX}>0\\text{, }\\forall{x\\in\\mathbb{R}}$, podemos aplicar a Desigualdade de Markov nas afirmações: \n",
    "        </li>\n",
    "    </ul>\n",
    " </div>"
   ]
  },
  {
   "cell_type": "markdown",
   "id": "8f5c406b-ea34-4764-9ba0-3470a4536f5e",
   "metadata": {
    "editable": true,
    "slideshow": {
     "slide_type": ""
    },
    "tags": []
   },
   "source": [
    "<figure>\n",
    "        <center style='font-size:20px;margin-top:20px'>\n",
    "            $\\begin{align}%\\label{}\n",
    "  P(X \\geq a)= P(e^{sX} \\geq e^{sa}) \\leq{\\frac{E[e^{sX}]}{e^{sa}}},  &\\qquad \\textrm{ for } s>0, \\\\\n",
    "  P(X \\leq a)= P(e^{sX} \\geq e^{sa}) \\leq{\\frac{E[e^{sX}]}{e^{sa}}},  &\\qquad \\textrm{ for } s<0.\n",
    "\\end{align}$\n",
    "        </center>\n",
    "    </figure>"
   ]
  },
  {
   "cell_type": "markdown",
   "id": "b2dc92b7-cb11-4468-bb58-1fb0bf8909e3",
   "metadata": {},
   "source": [
    "<div> \n",
    "    <ul style='font-size:20px'> \n",
    "        <li>\n",
    "            Já que $E[e^{sX}]=M_X(s)$, conseguimos reescrever a afirmação acima como:\n",
    "        </li>\n",
    "    </ul>\n",
    " </div>"
   ]
  },
  {
   "cell_type": "markdown",
   "id": "ef9577c0-3bfe-41d5-b23b-0f54854e8074",
   "metadata": {
    "editable": true,
    "slideshow": {
     "slide_type": ""
    },
    "tags": []
   },
   "source": [
    "<figure>\n",
    "        <center style='font-size:20px;margin-top:20px'>\n",
    "            $\\begin{align}%\\label{}\n",
    "  P(X \\geq a)= P(e^{sX} \\geq e^{sa}) \\leq{\\frac{M_X(s)}{e^{sa}}},  &\\qquad \\textrm{ for } s>0, \\\\\n",
    "  P(X \\leq a)= P(e^{sX} \\geq e^{sa}) \\leq{\\frac{M_X(s)}{e^{sa}}},  &\\qquad \\textrm{ for } s<0.\n",
    "\\end{align}$\n",
    "        </center>\n",
    "    </figure>"
   ]
  },
  {
   "cell_type": "markdown",
   "id": "8acab7c0-3286-4759-8f1d-ef9e4647e97f",
   "metadata": {},
   "source": [
    "<h3 style='font-size:30px;font-style:italic'> Fórmula Geral das Chernoff Bounds</h3>\n",
    "<div> \n",
    "    <ul style='font-size:20px'> \n",
    "        <li>\n",
    "            Como as fronteiras de Chernoff são válidas para qualquer $s\\in\\mathbb{R^{*}}$, podemos escolher um valor de $s$, de maneira que torne a desigualdade o menos espaçada possível.\n",
    "        </li>\n",
    "    </ul>\n",
    " </div>"
   ]
  },
  {
   "cell_type": "markdown",
   "id": "537af1a6-a885-4ae1-923c-1b9c3120877f",
   "metadata": {
    "editable": true,
    "slideshow": {
     "slide_type": ""
    },
    "tags": []
   },
   "source": [
    "<figure>\n",
    "        <center style='font-size:20px;margin-top:20px'>\n",
    "            $\\begin{align}%\\label{}\n",
    "\\displaystyle\n",
    "  P(X \\geq a) \\leq\\min_{s>0}e^{-sa}M_X(s) \\\\\n",
    "  P(X \\leq a) \\leq{\\min_{s<0}{e^{-sa}M_X(s)}}\n",
    "\\end{align}$\n",
    "        </center>\n",
    "    </figure>"
   ]
  },
  {
   "cell_type": "markdown",
   "id": "e04828a9-5622-4b4f-9d84-f2102192d115",
   "metadata": {},
   "source": [
    "<h3 style='font-size:30px;font-style:italic'> Prova de [1]</h3>\n",
    "<div> \n",
    "    <ul style='font-size:20px'> \n",
    "        <li>\n",
    "            As postulações [1] que baseiam as fronteiras existem porque $e^{sX}$ é uma função <i>monotônica</i>.\n",
    "            <ul>\n",
    "                <li>\n",
    "                    Quando $s>0$, $e^{sX}$ cresce conforme $x$ se torna maior, e decresce conforme esta decai. Com isso, caso uma variável $x\\geq{a}$, podemos também dizer que $e^{sx}\\geq{e^{sa}}$.\n",
    "                </li>\n",
    "                <li>\n",
    "                    Quando $s<0$, $e^{sX}$ descresce conforme $x$ se torna maior, e cresce conforme esta decai. Com isso, caso uma variável $x\\leq{a}$, podemos também dizer que $e^{sx}\\geq{e^{sa}}$.\n",
    "                </li>\n",
    "            </ul>\n",
    "        </li>\n",
    "    </ul>\n",
    " </div>"
   ]
  },
  {
   "cell_type": "markdown",
   "id": "762e718b-b004-4622-a77a-b1390895c686",
   "metadata": {
    "jp-MarkdownHeadingCollapsed": true
   },
   "source": [
    "<h2 style='font-size:30px'> \n",
    "    <a href='https://web.eecs.umich.edu/~jabernet/eecs598course/fall2015/web/notes/lec4_091715.pdf'>Hoeffding Inequality</a>\n",
    "</h2>\n",
    "<div> \n",
    "    <ul style='font-size:20px'> \n",
    "        <li>\n",
    "            A Desigualdade de Hoeffding é voltada para soma de variáveis aleatórias.\n",
    "        </li>\n",
    "        <li>\n",
    "            Sejam $X_{1},X_{2},\\ldots,X_{n}$ variáveis independentes, em que $a_{i}\\leq{X_{i}}\\leq{b_{i}}$ e $E[X_{i}]=0\\text{, }\\forall{i}=1\\ldots{n}$, podemos dizer que:\n",
    "        </li>\n",
    "    </ul>\n",
    " </div>"
   ]
  },
  {
   "cell_type": "markdown",
   "id": "8a548126-e700-4c5e-897c-952580fb46a6",
   "metadata": {
    "editable": true,
    "slideshow": {
     "slide_type": ""
    },
    "tags": []
   },
   "source": [
    "<figure>\n",
    "        <center style='font-size:20px;margin-top:20px'>\n",
    "            $\\displaystyle P\\left[\\sum_{i=1}^{n}{X_{i}}\\geq{t}\\right]\\leq{e^{\\left(-\\frac{2t^{2}}{\\sum_{i=1}^{n}(a_{i}-b_{i})^{2}}\\right)}}\\text{, }\\forall{t\\in{\\mathbb{R}^{+}}}$\n",
    "        </center>\n",
    "    </figure>"
   ]
  },
  {
   "cell_type": "markdown",
   "id": "d5220ae4-3e28-4d2e-b3e8-d6cae89b3132",
   "metadata": {},
   "source": [
    "<h3 style='font-size:30px;font-style:italic'> Prova da Desigualdade de Hoeffding</h3>\n",
    "<div> \n",
    "    <ul style='font-size:20px'> \n",
    "        <li>\n",
    "            Considerando $\\lambda>0$, podemos afirmar que: \n",
    "        </li>\n",
    "    </ul>\n",
    " </div>"
   ]
  },
  {
   "cell_type": "markdown",
   "id": "bbdfb8a3-402f-4fd1-bc10-7b9c98ee684d",
   "metadata": {
    "editable": true,
    "slideshow": {
     "slide_type": ""
    },
    "tags": []
   },
   "source": [
    "<figure>\n",
    "        <center style='font-size:20px;margin-top:20px'>\n",
    "            $$\\begin{align*}%\\label{}\n",
    "                \\displaystyle P\\left[\\sum_{i=1}^{n}{X_{i}}\\geq{t}\\right]&=\\displaystyle P\\left[e^{\\left(\\lambda\\sum_{i=1}^{n}{X_{i}}\\right)}\\geq{e^{\\left(\\lambda t\\right)}}\\right] \\\\\n",
    "            &\\leq{\\frac{E[e^{\\left(\\lambda\\sum_{i=1}^{n}X_{i}\\right)}]}{e^{\\left(\\lambda t\\right)}}} \\\\ \n",
    "            &\\leq{e^{\\left(-\\lambda t\\right)}E\\left[\\prod_{i=1}^{n}e^{\\left(\\lambda X_i\\right)}\\right]} \\\\\n",
    "            &=e^{\\left(-\\lambda t\\right)}\\prod_{i=1}^{n}{E[e^{\\left(\\lambda X_{i}\\right)}]}\n",
    "            \\end{align*}\n",
    "            $$\n",
    "        </center>\n",
    "    </figure>"
   ]
  },
  {
   "cell_type": "markdown",
   "id": "4c2ed1e7-12a7-4e1f-9a55-9f8d0dccb57b",
   "metadata": {},
   "source": [
    "<div> \n",
    "    <ul style='font-size:20px'> \n",
    "        <li>\n",
    "            Ao aplicarmos o Lemma de Hoeffding, teremos:\n",
    "        </li>\n",
    "    </ul>\n",
    " </div>"
   ]
  },
  {
   "cell_type": "markdown",
   "id": "ec521618-740b-487b-81e3-00a3a460fa9f",
   "metadata": {
    "editable": true,
    "slideshow": {
     "slide_type": ""
    },
    "tags": []
   },
   "source": [
    "<figure>\n",
    "        <center style='font-size:20px;margin-top:20px'>\n",
    "            $$\n",
    "\\begin{align*}%\\label{}\n",
    "e^{-\\lambda t}\\prod_{i=1}^{n}{E\\left[e^{\\lambda X_{i}}\\right]}&\\leq e^{-\\lambda t} \\prod_{i=1}^{n}e^{\\left(\\frac{\\lambda^{2}(a_i-b_i)^{2}}{8}\\right)}\n",
    "            \\end{align*}\n",
    "$$\n",
    "        </center>\n",
    "    </figure>"
   ]
  },
  {
   "cell_type": "code",
   "execution_count": null,
   "id": "0a39429d-b971-4c23-b42a-bfa445c52c0d",
   "metadata": {},
   "outputs": [],
   "source": [
    "# https://web.eecs.umich.edu/~jabernet/eecs598course/fall2015/web/notes/lec4_091715.pdf"
   ]
  },
  {
   "cell_type": "code",
   "execution_count": 9,
   "id": "dc566d14-822c-4bee-a819-bb87004bfb3c",
   "metadata": {
    "editable": true,
    "slideshow": {
     "slide_type": ""
    },
    "tags": []
   },
   "outputs": [
    {
     "name": "stdout",
     "output_type": "stream",
     "text": [
      "[master 2e4ffa7] Continuar Prova da Hoeffding Inequality\n",
      " 2 files changed, 100 insertions(+), 26 deletions(-)\n",
      "Enumerating objects: 9, done.\n",
      "Counting objects: 100% (9/9), done.\n",
      "Delta compression using up to 24 threads\n",
      "Compressing objects: 100% (5/5), done.\n",
      "Writing objects: 100% (5/5), 1.02 KiB | 1.02 MiB/s, done.\n",
      "Total 5 (delta 4), reused 0 (delta 0), pack-reused 0\n",
      "remote: Resolving deltas: 100% (4/4), completed with 4 local objects.\u001b[K\n",
      "To https://github.com/felipesveiga/reinforcement-learning.git\n",
      "   21ea185..2e4ffa7  master -> master\n"
     ]
    }
   ],
   "source": [
    "! git add ..\n",
    "! git commit -m 'Terminar Prova de Hoeffding Bounds'\n",
    "! git push"
   ]
  },
  {
   "cell_type": "markdown",
   "id": "93146121-96be-499b-8134-af0b0d5b9713",
   "metadata": {
    "editable": true,
    "slideshow": {
     "slide_type": ""
    },
    "tags": []
   },
   "source": [
    "<p style='color:red'> Terminar Prova de Hoeffding Bounds; Mostrar Hoeffding Lemma ; </p>"
   ]
  }
 ],
 "metadata": {
  "kernelspec": {
   "display_name": "Python 3 (ipykernel)",
   "language": "python",
   "name": "python3"
  },
  "language_info": {
   "codemirror_mode": {
    "name": "ipython",
    "version": 3
   },
   "file_extension": ".py",
   "mimetype": "text/x-python",
   "name": "python",
   "nbconvert_exporter": "python",
   "pygments_lexer": "ipython3",
   "version": "3.10.12"
  }
 },
 "nbformat": 4,
 "nbformat_minor": 5
}
