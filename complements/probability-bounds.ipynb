{
 "cells": [
  {
   "cell_type": "markdown",
   "id": "36be171e-14f6-4760-8035-92cf439aac8f",
   "metadata": {},
   "source": [
    "<h1 style='font-size:40px'> \n",
    "    <a href='https://web.stanford.edu/class/archive/cs/cs109/cs109.1218/files/student_drive/6.1.pdf'>\n",
    "        Probability Bounds\n",
    "    </a></h1>\n",
    "<div> \n",
    "    <ul style='font-size:20px'> \n",
    "        <li>\n",
    "            Fronteiras de probabilidade são metodologias que nos retornam a probabilidade de uma variável aleatória se encontrar a uma certa distância de sua média.\n",
    "        </li>\n",
    "        <li>\n",
    "            Nós as utilizamos quando não conhecemos a real PDF/PMF da sua distribuição, tendo apenas algumas estatísticas em mãos ($\\mu$, $\\sigma^{2}$).\n",
    "        </li>\n",
    "    </ul>\n",
    " </div>"
   ]
  },
  {
   "cell_type": "markdown",
   "id": "b5e41f52-23f5-4842-954f-47fbb5a12102",
   "metadata": {},
   "source": [
    "<h2 style='font-size:30px'> Markov Inequality</h2>\n",
    "<div> \n",
    "    <ul style='font-size:20px'> \n",
    "        <li>\n",
    "            A Desigualdade de Markov é aplicável a qualquer distribuição de uma variável $X$ não-negativa ($X \\in \\mathbb{R^{+}}$).\n",
    "        </li>\n",
    "        <li>\n",
    "            Ela postula que:\n",
    "        </li>\n",
    "    </ul>\n",
    " </div>"
   ]
  },
  {
   "cell_type": "markdown",
   "id": "88c5788a-92f6-43f4-b041-adc21064e442",
   "metadata": {},
   "source": [
    "<figure>\n",
    "        <center style='font-size:20px;margin-top:20px'>\n",
    "            $P(X\\geq{k})\\leq{\\frac{E[X]}{k}}\\text{, }k>0$\n",
    "        </center>\n",
    "    </figure>"
   ]
  },
  {
   "cell_type": "markdown",
   "id": "73867a1e-b027-4f4c-93b4-ef05a8752821",
   "metadata": {},
   "source": [
    "<h3 style='font-size:30px;font-style:italic'> Prova do Teorema de Markov</h3>"
   ]
  },
  {
   "cell_type": "markdown",
   "id": "7f88bfc9-165c-4948-8b04-cfaf9498b81b",
   "metadata": {},
   "source": [
    "<figure>\n",
    "        <center style='margin-top:20px'>\n",
    "            <img src='img/markov_ineq_proof.png'>\n",
    "                <figcaption>  </figcaption>\n",
    "        </center>\n",
    "    </figure>"
   ]
  },
  {
   "cell_type": "markdown",
   "id": "19d55c03-d119-40d9-b6b4-1431bffe4811",
   "metadata": {},
   "source": [
    "<figure>\n",
    "        <center style='font-size:20px;margin-top:20px'>\n",
    "            $\\frac{E[X]}{k}\\geq{P(X\\geq{k})}\\iff{P(X\\geq{k})\\leq{\\frac{E[X]}{k}}}$\n",
    "        </center>\n",
    "    </figure>"
   ]
  },
  {
   "cell_type": "markdown",
   "id": "a7b37051-5408-4bf6-9c75-c9a3c6f82bf4",
   "metadata": {},
   "source": [
    "<h3 style='font-size:30px;font-style:italic'> Limitações da Desigualdade de Markov</h3>\n",
    "<div> \n",
    "    <ul style='font-size:20px'> \n",
    "        <li>\n",
    "            Devido à sua simplicidade, a Desigualdade de Markov pode estimar fronteiras largas demais. Isso ode ser constatado com o seguinte exemplo:\n",
    "        </li>\n",
    "    </ul>\n",
    " </div>"
   ]
  },
  {
   "cell_type": "markdown",
   "id": "3017ff21-f189-4c4f-8eee-f460f3a20cb2",
   "metadata": {},
   "source": [
    "<center style='font-size:20px;margin-top:20px'>\n",
    "    <i> \n",
    "        Dada uma moeda enviesada cuja probabilidade de retornar cara seja de 20%, qual a probabilidade máxima de, em 20 lançamentos, obtermos 16 caras?\n",
    "    </i>\n",
    "</center>"
   ]
  },
  {
   "cell_type": "code",
   "execution_count": 4,
   "id": "c8dd42d9-a740-4612-8bb9-155e2dc98bc6",
   "metadata": {},
   "outputs": [
    {
     "data": {
      "text/plain": [
       "0.25"
      ]
     },
     "execution_count": 4,
     "metadata": {},
     "output_type": "execute_result"
    }
   ],
   "source": [
    "# Como se trata de uma distribuição Binomial, podemos medir E[X] da seguinte forma.\n",
    "E = 20*.2\n",
    "k = 16\n",
    "\n",
    "# Com isso, a Desigualdade de Markov afirma que a probabilidade máxima é de:\n",
    "E/k"
   ]
  },
  {
   "cell_type": "code",
   "execution_count": 22,
   "id": "78c0afcf-6337-4821-b10d-0b85141a18c5",
   "metadata": {},
   "outputs": [
    {
     "data": {
      "text/plain": [
       "1.3803464926631648e-08"
      ]
     },
     "execution_count": 22,
     "metadata": {},
     "output_type": "execute_result"
    }
   ],
   "source": [
    "# Mas, observe, a probabilidade real é muito menor.\n",
    "from scipy.stats import binom\n",
    "\n",
    "1-binom.cdf(n=20, p=.2, k=15)"
   ]
  },
  {
   "cell_type": "markdown",
   "id": "75d4d06f-af39-4f6f-acea-b21a92db7aa2",
   "metadata": {},
   "source": [
    "<h2 style='font-size:30px'> Chebyshev’s Inequality</h2>\n",
    "<div> \n",
    "    <ul style='font-size:20px'> \n",
    "        <li>\n",
    "        </li>\n",
    "    </ul>\n",
    " </div>"
   ]
  },
  {
   "cell_type": "code",
   "execution_count": 2,
   "id": "40a9d773-1c4e-401e-858d-c0a896d86548",
   "metadata": {},
   "outputs": [
    {
     "name": "stdout",
     "output_type": "stream",
     "text": [
      "[master fbae8b2] Continuar de \"So just knowing that the random variable is non-negative\"\n",
      " 3 files changed, 160 insertions(+), 26 deletions(-)\n",
      " create mode 100644 complements/img/markov_ineq_proof.png\n",
      "Enumerating objects: 11, done.\n",
      "Counting objects: 100% (11/11), done.\n",
      "Delta compression using up to 24 threads\n",
      "Compressing objects: 100% (6/6), done.\n",
      "Writing objects: 100% (7/7), 42.45 KiB | 42.45 MiB/s, done.\n",
      "Total 7 (delta 2), reused 0 (delta 0), pack-reused 0\n",
      "remote: Resolving deltas: 100% (2/2), completed with 2 local objects.\u001b[K\n",
      "To https://github.com/felipesveiga/reinforcement-learning.git\n",
      "   8154665..fbae8b2  master -> master\n"
     ]
    }
   ],
   "source": [
    "! git add ..\n",
    "! git commit -m 'Explicar \"Chebyshev’s Inequality\"'\n",
    "! git push"
   ]
  },
  {
   "cell_type": "markdown",
   "id": "233df191-cf6b-40e9-8271-aaeeb41aa05f",
   "metadata": {
    "editable": true,
    "slideshow": {
     "slide_type": ""
    },
    "tags": []
   },
   "source": [
    "<p style='color:red'> Terminei Desigualdade de Markov; Explicar \"Chebyshev’s Inequality\" </p>"
   ]
  }
 ],
 "metadata": {
  "kernelspec": {
   "display_name": "Python 3 (ipykernel)",
   "language": "python",
   "name": "python3"
  },
  "language_info": {
   "codemirror_mode": {
    "name": "ipython",
    "version": 3
   },
   "file_extension": ".py",
   "mimetype": "text/x-python",
   "name": "python",
   "nbconvert_exporter": "python",
   "pygments_lexer": "ipython3",
   "version": "3.10.12"
  }
 },
 "nbformat": 4,
 "nbformat_minor": 5
}
