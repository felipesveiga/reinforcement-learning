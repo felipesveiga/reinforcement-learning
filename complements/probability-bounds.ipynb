{
 "cells": [
  {
   "cell_type": "markdown",
   "id": "36be171e-14f6-4760-8035-92cf439aac8f",
   "metadata": {},
   "source": [
    "<h1 style='font-size:40px'> \n",
    "    <a href='https://web.stanford.edu/class/archive/cs/cs109/cs109.1218/files/student_drive/6.1.pdf'>\n",
    "        Probability Bounds\n",
    "    </a></h1>\n",
    "<div> \n",
    "    <ul style='font-size:20px'> \n",
    "        <li>\n",
    "            Fronteiras de probabilidade são metodologias que nos retornam a probabilidade de uma variável aleatória se encontrar a uma certa distância de sua média.\n",
    "        </li>\n",
    "        <li>\n",
    "            Nós as utilizamos quando não conhecemos a real PDF/PMF da sua distribuição, tendo apenas algumas estatísticas em mãos.\n",
    "        </li>\n",
    "    </ul>\n",
    " </div>"
   ]
  },
  {
   "cell_type": "code",
   "execution_count": 12,
   "id": "40a9d773-1c4e-401e-858d-c0a896d86548",
   "metadata": {},
   "outputs": [
    {
     "name": "stdout",
     "output_type": "stream",
     "text": [
      "[master 7cb1270] Entender a Prova da Inequalidade de Markov, Chebyshev\n",
      " 2 files changed, 26 insertions(+), 30 deletions(-)\n",
      "Enumerating objects: 7, done.\n",
      "Counting objects: 100% (7/7), done.\n",
      "Delta compression using up to 24 threads\n",
      "Compressing objects: 100% (4/4), done.\n",
      "Writing objects: 100% (4/4), 727 bytes | 727.00 KiB/s, done.\n",
      "Total 4 (delta 3), reused 0 (delta 0), pack-reused 0\n",
      "remote: Resolving deltas: 100% (3/3), completed with 3 local objects.\u001b[K\n",
      "To https://github.com/felipesveiga/reinforcement-learning.git\n",
      "   1203b9a..7cb1270  master -> master\n"
     ]
    }
   ],
   "source": [
    "! git add ..\n",
    "! git commit -m 'Anotar sobre a Desigualdade de Markov'\n",
    "! git push"
   ]
  },
  {
   "cell_type": "markdown",
   "id": "233df191-cf6b-40e9-8271-aaeeb41aa05f",
   "metadata": {
    "editable": true,
    "slideshow": {
     "slide_type": ""
    },
    "tags": []
   },
   "source": [
    "<p style='color:red'> Anotar sobre a Desigualdade de Markov </p>"
   ]
  }
 ],
 "metadata": {
  "kernelspec": {
   "display_name": "Python 3 (ipykernel)",
   "language": "python",
   "name": "python3"
  },
  "language_info": {
   "codemirror_mode": {
    "name": "ipython",
    "version": 3
   },
   "file_extension": ".py",
   "mimetype": "text/x-python",
   "name": "python",
   "nbconvert_exporter": "python",
   "pygments_lexer": "ipython3",
   "version": "3.10.12"
  }
 },
 "nbformat": 4,
 "nbformat_minor": 5
}
