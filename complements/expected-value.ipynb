{
 "cells": [
  {
   "cell_type": "markdown",
   "id": "7f7e261a-0424-4ae3-abbd-bf477f01558f",
   "metadata": {
    "jp-MarkdownHeadingCollapsed": true
   },
   "source": [
    "<h1 style='font-size:40px'> \n",
    "    Expected Values\n",
    "</h1>\n",
    "<div> \n",
    "    <ul style='font-size:20px'>\n",
    "        <li>\n",
    "        </li>\n",
    "     </ul>\n",
    "</div>"
   ]
  },
  {
   "cell_type": "markdown",
   "id": "3a9befaf-5194-477f-925d-8f17dfca8e67",
   "metadata": {},
   "source": [
    "<h2 style='font-size:30px'> \n",
    "    <a href='https://www.statlect.com/fundamentals-of-probability/conditional-expectation'>Conditional Expectations</a>\n",
    "</h2>\n",
    "<div> \n",
    "    <ul style='font-size:20px'> \n",
    "        <li>  \n",
    "            Expectativas condicionais consistem no valor esperado de uma variável $X$ condicionado a um acontecimento $y$.\n",
    "        </li>\n",
    "        <li>\n",
    "            No caso, as probabilidades consideradas em $E[X|Y=y]$ serão, basicamente, um Bayes $P(x|Y=y)$.\n",
    "        </li>\n",
    "    </ul>\n",
    " </div>"
   ]
  },
  {
   "cell_type": "markdown",
   "id": "db5ba41a-3367-4cde-92d1-d49988a95f8a",
   "metadata": {},
   "source": [
    "<figure>\n",
    "    <center style='font-size:20px;margin-top:20px'> \n",
    "            $\\displaystyle E[X|Y=y]=\\int_{-\\infty}^{\\infty}xf_{X|Y=y}(x)dx$\n",
    "            <figcaption style='font-size:15px'> \n",
    "                Fórmula da Expectativa condicional, em que $f_{X|Y=y}(x)$ é a PDF condicional de $X|Y=y$.\n",
    "            </figcaption>\n",
    "    </center>\n",
    "</figure>"
   ]
  },
  {
   "cell_type": "code",
   "execution_count": 18,
   "id": "bfa6970f-41e2-4f33-95ab-c785c56ba481",
   "metadata": {},
   "outputs": [
    {
     "name": "stdout",
     "output_type": "stream",
     "text": [
      "[master 398322b] Ler artigo Stelect para entender Conditional Expectation, explicar últimas duas linhas da formalização Bellman Equation\n",
      " 2 files changed, 14 insertions(+), 14 deletions(-)\n",
      "Enumerating objects: 7, done.\n",
      "Counting objects: 100% (7/7), done.\n",
      "Delta compression using up to 24 threads\n",
      "Compressing objects: 100% (4/4), done.\n",
      "Writing objects: 100% (4/4), 618 bytes | 618.00 KiB/s, done.\n",
      "Total 4 (delta 3), reused 0 (delta 0), pack-reused 0\n",
      "remote: Resolving deltas: 100% (3/3), completed with 3 local objects.\u001b[K\n",
      "To https://github.com/felipesveiga/reinforcement-learning.git\n",
      "   af75cd4..398322b  master -> master\n"
     ]
    }
   ],
   "source": [
    "! git add .\n",
    "! git commit -m 'Continuar de \"Conditional expectation in general\"'\n",
    "! git push"
   ]
  },
  {
   "cell_type": "markdown",
   "id": "b0b62ab2-77ee-4cf6-871a-937b5366cb6a",
   "metadata": {
    "editable": true,
    "slideshow": {
     "slide_type": ""
    },
    "tags": []
   },
   "source": [
    "<p style='color:red'> Iniciei artigo Stelect; Continuar de \"Conditional expectation in general\"</p>"
   ]
  }
 ],
 "metadata": {
  "kernelspec": {
   "display_name": "Python 3 (ipykernel)",
   "language": "python",
   "name": "python3"
  },
  "language_info": {
   "codemirror_mode": {
    "name": "ipython",
    "version": 3
   },
   "file_extension": ".py",
   "mimetype": "text/x-python",
   "name": "python",
   "nbconvert_exporter": "python",
   "pygments_lexer": "ipython3",
   "version": "3.10.12"
  }
 },
 "nbformat": 4,
 "nbformat_minor": 5
}
